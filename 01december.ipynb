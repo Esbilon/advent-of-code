{
 "cells": [
  {
   "cell_type": "code",
   "execution_count": 1,
   "id": "0bbe3741-d933-415f-813e-76b87d9e474e",
   "metadata": {},
   "outputs": [],
   "source": [
    "## Advent of Code 2021 - December 1"
   ]
  },
  {
   "cell_type": "code",
   "execution_count": 3,
   "id": "09665006-5c90-49ae-8e0b-03fcab2fc9e9",
   "metadata": {},
   "outputs": [],
   "source": [
    "def count_increase(list):\n",
    "    prev = 0\n",
    "    inc_no = -1\n",
    "    for elem in list:\n",
    "        if elem > prev:\n",
    "            inc_no += 1\n",
    "        prev = elem\n",
    "    return inc_no"
   ]
  },
  {
   "cell_type": "code",
   "execution_count": 19,
   "id": "3e614af8-0a31-498d-b13c-5e0ff40c7c30",
   "metadata": {},
   "outputs": [
    {
     "data": {
      "text/plain": [
       "7"
      ]
     },
     "execution_count": 19,
     "metadata": {},
     "output_type": "execute_result"
    }
   ],
   "source": [
    "test_data=[199,200,208,210,200,207,240,269,260,263]\n",
    "count_increase(test_data)"
   ]
  },
  {
   "cell_type": "code",
   "execution_count": 18,
   "id": "405d343d-c245-42df-abf3-266c22967a84",
   "metadata": {},
   "outputs": [
    {
     "data": {
      "text/plain": [
       "1228"
      ]
     },
     "execution_count": 18,
     "metadata": {},
     "output_type": "execute_result"
    }
   ],
   "source": [
    "prob1_data = []\n",
    "f = open(\"01dec-data.txt\", \"r\")\n",
    "for x in f:\n",
    "    prob1_data.append(int(x))\n",
    "count_increase(prob1_data)"
   ]
  },
  {
   "cell_type": "code",
   "execution_count": 48,
   "id": "29710746-db28-4eee-8573-1baaa2820591",
   "metadata": {},
   "outputs": [],
   "source": [
    "def count_increase_slide(list):\n",
    "    inc_no = 0\n",
    "    for i in range(3,len(list)):\n",
    "        prev = list[i-3:i]\n",
    "        cur = list[i-2:i+1]\n",
    "        if sum(cur) > sum(prev):\n",
    "            inc_no += 1    \n",
    "    return inc_no"
   ]
  },
  {
   "cell_type": "code",
   "execution_count": 49,
   "id": "e37b6aba-1bd9-493b-9b67-c3b4a44e3f54",
   "metadata": {},
   "outputs": [
    {
     "data": {
      "text/plain": [
       "5"
      ]
     },
     "execution_count": 49,
     "metadata": {},
     "output_type": "execute_result"
    }
   ],
   "source": [
    "count_increase_slide(test_data)"
   ]
  },
  {
   "cell_type": "code",
   "execution_count": 47,
   "id": "74c4f11e-0c60-4443-813d-68026fe92c03",
   "metadata": {},
   "outputs": [
    {
     "data": {
      "text/plain": [
       "1257"
      ]
     },
     "execution_count": 47,
     "metadata": {},
     "output_type": "execute_result"
    }
   ],
   "source": [
    "count_increase_slide(prob1_data)"
   ]
  }
 ],
 "metadata": {
  "kernelspec": {
   "display_name": "Python 3 (ipykernel)",
   "language": "python",
   "name": "python3"
  },
  "language_info": {
   "codemirror_mode": {
    "name": "ipython",
    "version": 3
   },
   "file_extension": ".py",
   "mimetype": "text/x-python",
   "name": "python",
   "nbconvert_exporter": "python",
   "pygments_lexer": "ipython3",
   "version": "3.9.8"
  }
 },
 "nbformat": 4,
 "nbformat_minor": 5
}
