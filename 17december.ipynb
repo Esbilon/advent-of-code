{
 "cells": [
  {
   "cell_type": "code",
   "execution_count": 1,
   "id": "7d6938ea-d107-48bc-9a16-9db63419eabe",
   "metadata": {},
   "outputs": [],
   "source": [
    "## Advent of Code 2021 - December 17"
   ]
  },
  {
   "cell_type": "code",
   "execution_count": 39,
   "id": "1dd489de-60a6-43c5-a725-00c47e12dd4f",
   "metadata": {},
   "outputs": [],
   "source": [
    "import numpy as np"
   ]
  },
  {
   "cell_type": "code",
   "execution_count": 61,
   "id": "c29bdbfd-9374-4ff2-8836-31a4b1cc5edc",
   "metadata": {},
   "outputs": [],
   "source": [
    "test_target = [[20,30],[-10,-5]]\n",
    "test_target = [[88,125],[-157,-103]]"
   ]
  },
  {
   "cell_type": "code",
   "execution_count": 62,
   "id": "5b13fe09-fd1d-4f79-91b8-6f12b60a43bd",
   "metadata": {},
   "outputs": [],
   "source": [
    "vxrange = []\n",
    "for vx0 in range(1,test_target[0][1]+1):\n",
    "    x = 0\n",
    "    vx = vx0\n",
    "    step = 0\n",
    "    while x<test_target[0][1]:\n",
    "        x += vx\n",
    "        vx -= 1\n",
    "        step +=1\n",
    "        if test_target[0][0] <= x <= test_target[0][1]:\n",
    "            vxrange.append(vx0)\n",
    "            x = 0\n",
    "            break\n",
    "        if vx == 0:\n",
    "            x = 0\n",
    "            break\n",
    "#vxrange"
   ]
  },
  {
   "cell_type": "code",
   "execution_count": 63,
   "id": "8b0a6be6-768d-4d8a-a77b-47e17627bbbb",
   "metadata": {},
   "outputs": [],
   "source": [
    "vyrange = []\n",
    "for vy0 in range(test_target[1][0],-test_target[1][0]+1):\n",
    "    y = 0\n",
    "    vy = vy0\n",
    "    step = 0\n",
    "    maxh = 0\n",
    "    while True:\n",
    "        y += vy\n",
    "        if y > maxh:\n",
    "            maxh = y\n",
    "        vy -= 1\n",
    "        step += 1\n",
    "        if test_target[1][0] <= y <= test_target[1][1]:\n",
    "            vyrange.append(vy0)\n",
    "            y = 0\n",
    "            break\n",
    "        if y < test_target[1][0]:\n",
    "            y = 0\n",
    "            break\n",
    "#vyrange"
   ]
  },
  {
   "cell_type": "code",
   "execution_count": 64,
   "id": "c743477e-f855-4d58-a2e0-43dd17c5e5ae",
   "metadata": {},
   "outputs": [
    {
     "data": {
      "text/plain": [
       "3528"
      ]
     },
     "execution_count": 64,
     "metadata": {},
     "output_type": "execute_result"
    }
   ],
   "source": [
    "vrange = []\n",
    "for vx0 in vxrange:\n",
    "    for vy0 in vyrange:\n",
    "        vx = vx0\n",
    "        vy = vy0\n",
    "        y = 0\n",
    "        x = 0\n",
    "        while (x<=test_target[0][1]) and (y >= test_target[1][0]):\n",
    "            x += vx\n",
    "            y += vy\n",
    "            if vx >0:\n",
    "                vx -= 1\n",
    "            vy -= 1\n",
    "            \n",
    "            if (test_target[0][0] <= x <= test_target[0][1]) and (test_target[1][0] <= y <= test_target[1][1]):\n",
    "                vrange.append([vx,vy])\n",
    "                x = 0\n",
    "                y = 0\n",
    "                break\n",
    "len(vrange)"
   ]
  },
  {
   "cell_type": "code",
   "execution_count": null,
   "id": "a866d316-0f86-4ef1-ae88-46bcb5ff1644",
   "metadata": {},
   "outputs": [],
   "source": []
  }
 ],
 "metadata": {
  "kernelspec": {
   "display_name": "Python 3 (ipykernel)",
   "language": "python",
   "name": "python3"
  },
  "language_info": {
   "codemirror_mode": {
    "name": "ipython",
    "version": 3
   },
   "file_extension": ".py",
   "mimetype": "text/x-python",
   "name": "python",
   "nbconvert_exporter": "python",
   "pygments_lexer": "ipython3",
   "version": "3.9.8"
  }
 },
 "nbformat": 4,
 "nbformat_minor": 5
}
