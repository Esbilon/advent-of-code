{
 "cells": [
  {
   "cell_type": "code",
   "execution_count": 1,
   "id": "50dc876b-af94-466a-9ab2-cbb686ff2736",
   "metadata": {},
   "outputs": [],
   "source": [
    "#SDU Nat advent calendar - dec 1"
   ]
  },
  {
   "cell_type": "code",
   "execution_count": 3,
   "id": "158b502b-f1b1-48f5-a11d-e99f5dc9ccc4",
   "metadata": {},
   "outputs": [],
   "source": [
    "kodon_dict = {\n",
    "    \"AAC\": \"N\",\n",
    "    \"ACG\": \"T\",\n",
    "    \"AUG\": \"M\",\n",
    "    \"AUU\": \"I\",\n",
    "    \"CAC\": \"H\",\n",
    "    \"CGA\": \"R\",\n",
    "    \"CUG\": \"L\",\n",
    "    \"GAC\": \"D\",\n",
    "    \"GAG\": \"E\",\n",
    "    \"GCC\": \"A\",\n",
    "    \"GGU\": \"G\",\n",
    "    \"UCG\": \"S\",\n",
    "    \"UGA\": \".\",\n",
    "    \"UGC\": \"C\"\n",
    "}"
   ]
  },
  {
   "cell_type": "code",
   "execution_count": 5,
   "id": "73cdcea8-4661-4864-bc81-3bf713620e3f",
   "metadata": {},
   "outputs": [],
   "source": [
    "input_string = \"UGC CAC CGA AUU UCG ACG AUG GCC AAC GGU GAG CUG UGA\"\n",
    "input_list = input_string.split()"
   ]
  },
  {
   "cell_type": "code",
   "execution_count": 24,
   "id": "c249f301-6de7-4bc2-ab57-5eb335cda095",
   "metadata": {},
   "outputs": [
    {
     "data": {
      "text/plain": [
       "'ANGEL'"
      ]
     },
     "execution_count": 24,
     "metadata": {},
     "output_type": "execute_result"
    }
   ],
   "source": [
    "start = False\n",
    "output_string = \"\"\n",
    "for kodon in input_list:\n",
    "    if kodon_dict[kodon] == \".\":\n",
    "        break\n",
    "    if start:\n",
    "        output_string += kodon_dict[kodon]\n",
    "    if kodon_dict[kodon] == \"M\":\n",
    "        start = True\n",
    "output_string"
   ]
  },
  {
   "cell_type": "code",
   "execution_count": 11,
   "id": "98ae7248-7b41-4384-acf1-4c6c7a8dd50c",
   "metadata": {},
   "outputs": [],
   "source": [
    "#SDU Nat advent calendar - dec 2"
   ]
  },
  {
   "cell_type": "code",
   "execution_count": 22,
   "id": "536e1c94-5962-41f2-8dd2-3f55f92f3dcb",
   "metadata": {},
   "outputs": [
    {
     "name": "stdout",
     "output_type": "stream",
     "text": [
      "2435 46\n",
      "46 43\n",
      "43 3\n",
      "3 1\n"
     ]
    },
    {
     "data": {
      "text/plain": [
       "1"
      ]
     },
     "execution_count": 22,
     "metadata": {},
     "output_type": "execute_result"
    }
   ],
   "source": [
    "def gcd(a,b):\n",
    "    while b>1:\n",
    "        c = a%b\n",
    "        if c == 0:\n",
    "            break\n",
    "        a,b = b,c\n",
    "        print(a,b)\n",
    "    return b\n",
    "gcd(9786, 2435)"
   ]
  },
  {
   "cell_type": "code",
   "execution_count": null,
   "id": "5a5406e8-2f87-4e1f-b3d8-ffee419fdb8b",
   "metadata": {},
   "outputs": [],
   "source": [
    "#SDU Nat advent calendar - dec 6"
   ]
  },
  {
   "cell_type": "code",
   "execution_count": 1,
   "id": "07c1fd68-3400-41ea-a809-f392c12f4c9e",
   "metadata": {},
   "outputs": [
    {
     "data": {
      "text/plain": [
       "(42, 6)"
      ]
     },
     "execution_count": 1,
     "metadata": {},
     "output_type": "execute_result"
    }
   ],
   "source": [
    "divmod(300,7)"
   ]
  },
  {
   "cell_type": "code",
   "execution_count": 2,
   "id": "66d34c5c-ff51-45df-ae6a-cdc6272d82cf",
   "metadata": {},
   "outputs": [],
   "source": [
    "#SDU Nat advent calendar - dec 7"
   ]
  },
  {
   "cell_type": "code",
   "execution_count": 3,
   "id": "674a1b55-6bb5-42fc-bb18-36326ab00cd7",
   "metadata": {},
   "outputs": [
    {
     "name": "stdout",
     "output_type": "stream",
     "text": [
      "H\n",
      "U\n",
      "N\n",
      "D\n"
     ]
    }
   ],
   "source": [
    "a = \"IPADBUXHELONG\" \n",
    "b = [7,5,11,3] \n",
    "for i in b: \n",
    "    print(a[i]) "
   ]
  },
  {
   "cell_type": "code",
   "execution_count": null,
   "id": "07337bd2-9f01-49c2-a55a-da5311ed75b5",
   "metadata": {},
   "outputs": [],
   "source": []
  }
 ],
 "metadata": {
  "kernelspec": {
   "display_name": "Python 3 (ipykernel)",
   "language": "python",
   "name": "python3"
  },
  "language_info": {
   "codemirror_mode": {
    "name": "ipython",
    "version": 3
   },
   "file_extension": ".py",
   "mimetype": "text/x-python",
   "name": "python",
   "nbconvert_exporter": "python",
   "pygments_lexer": "ipython3",
   "version": "3.9.8"
  }
 },
 "nbformat": 4,
 "nbformat_minor": 5
}
