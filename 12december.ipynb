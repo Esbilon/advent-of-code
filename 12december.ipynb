{
 "cells": [
  {
   "cell_type": "code",
   "execution_count": 1,
   "id": "0d09b2bc-f239-414c-a917-46899ba64bb9",
   "metadata": {},
   "outputs": [],
   "source": [
    "## Advent of Code 2021 - December 12"
   ]
  },
  {
   "cell_type": "code",
   "execution_count": 2,
   "id": "252f0a5f-feab-4a7a-9c7a-ff25f5b0f514",
   "metadata": {},
   "outputs": [],
   "source": [
    "import time"
   ]
  },
  {
   "cell_type": "code",
   "execution_count": 3,
   "id": "a7e616bc-dc74-4db0-9c34-7e41e0d45698",
   "metadata": {},
   "outputs": [
    {
     "data": {
      "text/plain": [
       "[['start', 'A'],\n",
       " ['start', 'b'],\n",
       " ['A', 'c'],\n",
       " ['A', 'b'],\n",
       " ['b', 'd'],\n",
       " ['A', 'end'],\n",
       " ['b', 'end']]"
      ]
     },
     "execution_count": 3,
     "metadata": {},
     "output_type": "execute_result"
    }
   ],
   "source": [
    "with open(\"12dec-test1.txt\") as f:\n",
    "    test_data = [line.strip() for line in f.readlines()]\n",
    "    test_data = [line.split(\"-\") for line in test_data]\n",
    "test_data"
   ]
  },
  {
   "cell_type": "code",
   "execution_count": 4,
   "id": "3fae8327-14a8-4aa8-ac33-fd30f759194f",
   "metadata": {},
   "outputs": [
    {
     "data": {
      "text/plain": [
       "10"
      ]
     },
     "execution_count": 4,
     "metadata": {},
     "output_type": "execute_result"
    }
   ],
   "source": [
    "def find_paths(caves):\n",
    "    paths = []\n",
    "    for conn in caves:\n",
    "        if conn[0]=='start':\n",
    "            paths.append(conn.copy())\n",
    "        elif conn[1]=='start':\n",
    "            new_path = conn.copy()\n",
    "            new_path.reverse()\n",
    "            paths.append(new_path)\n",
    "    i = 0\n",
    "    while i<len(paths):\n",
    "        if paths[i][-1] == \"end\":\n",
    "            i += 1\n",
    "            continue\n",
    "        curr_path = paths.pop(i)\n",
    "        for conn in caves:\n",
    "            if curr_path[-1] == conn[0] and not (conn[1].islower() and conn[1] in curr_path):\n",
    "                paths.append(curr_path + [conn[1]])\n",
    "            elif curr_path[-1] == conn[1] and not (conn[0].islower() and conn[0] in curr_path):\n",
    "                paths.append(curr_path + [conn[0]])\n",
    "    return len(paths)#, paths\n",
    "find_paths(test_data)"
   ]
  },
  {
   "cell_type": "code",
   "execution_count": 5,
   "id": "e12a9d67-be10-480c-adb9-49407be38a2c",
   "metadata": {},
   "outputs": [
    {
     "data": {
      "text/plain": [
       "19"
      ]
     },
     "execution_count": 5,
     "metadata": {},
     "output_type": "execute_result"
    }
   ],
   "source": [
    "with open(\"12dec-test2.txt\") as f:\n",
    "    test_data = [line.strip() for line in f.readlines()]\n",
    "    test_data2 = [line.split(\"-\") for line in test_data]\n",
    "find_paths(test_data2)"
   ]
  },
  {
   "cell_type": "code",
   "execution_count": 6,
   "id": "79221359-3a43-4e28-8100-bd1cce72a7b8",
   "metadata": {},
   "outputs": [
    {
     "data": {
      "text/plain": [
       "226"
      ]
     },
     "execution_count": 6,
     "metadata": {},
     "output_type": "execute_result"
    }
   ],
   "source": [
    "with open(\"12dec-test3.txt\") as f:\n",
    "    test_data = [line.strip() for line in f.readlines()]\n",
    "    test_data3 = [line.split(\"-\") for line in test_data]\n",
    "find_paths(test_data3)"
   ]
  },
  {
   "cell_type": "code",
   "execution_count": 7,
   "id": "93383db2-6f9d-4d98-b143-8e3133837231",
   "metadata": {},
   "outputs": [
    {
     "data": {
      "text/plain": [
       "5178"
      ]
     },
     "execution_count": 7,
     "metadata": {},
     "output_type": "execute_result"
    }
   ],
   "source": [
    "with open(\"12dec-data.txt\") as f:\n",
    "    data = [line.strip() for line in f.readlines()]\n",
    "    data = [line.split(\"-\") for line in data]\n",
    "find_paths(data)"
   ]
  },
  {
   "cell_type": "code",
   "execution_count": 8,
   "id": "e621407d-404c-43b6-805e-906954d3989b",
   "metadata": {},
   "outputs": [
    {
     "data": {
      "text/plain": [
       "False"
      ]
     },
     "execution_count": 8,
     "metadata": {},
     "output_type": "execute_result"
    }
   ],
   "source": [
    "def double_cave(path):\n",
    "    double = False\n",
    "    for cave in list(set(path)):\n",
    "        if path.count(cave)>1 and cave.islower():\n",
    "            double = True\n",
    "            break\n",
    "    return double\n",
    "double_cave(  ['start', 'b', 'A', 'c', 'A', 'A', 'end'],)"
   ]
  },
  {
   "cell_type": "code",
   "execution_count": 9,
   "id": "7c80a8f6-a41c-44c3-933a-66691a257b81",
   "metadata": {},
   "outputs": [
    {
     "data": {
      "text/plain": [
       "0"
      ]
     },
     "execution_count": 9,
     "metadata": {},
     "output_type": "execute_result"
    }
   ],
   "source": [
    "def find_paths_comp(caves):\n",
    "    paths = []\n",
    "    for conn in caves:\n",
    "        if conn[0]=='start':\n",
    "            paths.append(conn.copy())\n",
    "        elif conn[1]=='start':\n",
    "            new_path = conn.copy()\n",
    "            new_path.reverse()\n",
    "            paths.append(new_path)\n",
    "    i = 0\n",
    "    while i<len(paths):\n",
    "        if paths[i][-1] == \"end\":\n",
    "            i += 1\n",
    "            continue\n",
    "        curr_path = paths.pop(i)\n",
    "        for conn in caves:\n",
    "            if curr_path[-1] == conn[0] and not (conn[1].islower() and curr_path.count(conn[1])>0 and double_cave(curr_path)) and not (conn[1]=='start'):\n",
    "                paths.append(curr_path + [conn[1]])\n",
    "            elif curr_path[-1] == conn[1] and not (conn[0].islower() and curr_path.count(conn[0])>0 and double_cave(curr_path)) and not (conn[0]=='start'):\n",
    "                paths.append(curr_path + [conn[0]])\n",
    "    return len(paths)#, paths\n",
    "find_paths_comp(test_data)"
   ]
  },
  {
   "cell_type": "code",
   "execution_count": 10,
   "id": "d15dd15e-9cb1-43fc-a4dc-a586a73c5c30",
   "metadata": {},
   "outputs": [
    {
     "data": {
      "text/plain": [
       "103"
      ]
     },
     "execution_count": 10,
     "metadata": {},
     "output_type": "execute_result"
    }
   ],
   "source": [
    "find_paths_comp(test_data2)"
   ]
  },
  {
   "cell_type": "code",
   "execution_count": 11,
   "id": "908736b3-5388-40be-9cad-f4bf3655989d",
   "metadata": {},
   "outputs": [
    {
     "data": {
      "text/plain": [
       "3509"
      ]
     },
     "execution_count": 11,
     "metadata": {},
     "output_type": "execute_result"
    }
   ],
   "source": [
    "find_paths_comp(test_data3)"
   ]
  },
  {
   "cell_type": "code",
   "execution_count": 12,
   "id": "08f63cf8-d8cb-4f4d-b43d-f9d36ce484ac",
   "metadata": {},
   "outputs": [
    {
     "name": "stdout",
     "output_type": "stream",
     "text": [
      "130094\n",
      "6.0859150886535645\n"
     ]
    }
   ],
   "source": [
    "start = time.time()\n",
    "print(find_paths_comp(data))\n",
    "end = time.time()\n",
    "print(end-start)"
   ]
  },
  {
   "cell_type": "code",
   "execution_count": null,
   "id": "829176eb-6e38-423e-b07c-e4d9d40b90b7",
   "metadata": {},
   "outputs": [],
   "source": []
  }
 ],
 "metadata": {
  "kernelspec": {
   "display_name": "Python 3 (ipykernel)",
   "language": "python",
   "name": "python3"
  },
  "language_info": {
   "codemirror_mode": {
    "name": "ipython",
    "version": 3
   },
   "file_extension": ".py",
   "mimetype": "text/x-python",
   "name": "python",
   "nbconvert_exporter": "python",
   "pygments_lexer": "ipython3",
   "version": "3.9.7"
  }
 },
 "nbformat": 4,
 "nbformat_minor": 5
}
