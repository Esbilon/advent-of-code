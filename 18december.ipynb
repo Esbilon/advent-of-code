{
 "cells": [
  {
   "cell_type": "code",
   "execution_count": 1,
   "id": "0bb4c028-1ba8-4366-8ffe-644965ff0d3b",
   "metadata": {},
   "outputs": [],
   "source": [
    "## Advent of Code 2021 - December 18"
   ]
  },
  {
   "cell_type": "code",
   "execution_count": 473,
   "id": "72122840-12f6-4a7d-8d6a-c7dee3bf9915",
   "metadata": {},
   "outputs": [],
   "source": [
    "import numpy as np\n",
    "import json\n",
    "import copy"
   ]
  },
  {
   "cell_type": "code",
   "execution_count": 502,
   "id": "2cb541db-32ab-453e-b8d4-a76cd6b4d29a",
   "metadata": {},
   "outputs": [],
   "source": [
    "def assign_nested(li,co,new):\n",
    "    if len(co)>1:\n",
    "        return assign_nested(li[co[0]],co[1:],new)\n",
    "    elif len(co)==0:\n",
    "        li = new\n",
    "    else:\n",
    "        li[co[0]] = new\n",
    "def add_nested(li,co,new):\n",
    "    if len(co)>1:\n",
    "        return add_nested(li[co[0]],co[1:],new)\n",
    "    else:\n",
    "        li[co[0]] += new"
   ]
  },
  {
   "cell_type": "code",
   "execution_count": 503,
   "id": "0fc4b934-1f4a-4589-b4f4-d9ef9a4654b8",
   "metadata": {},
   "outputs": [],
   "source": [
    "def dump(li, levels = []):\n",
    "    for i, sli in enumerate(li):\n",
    "        if not isinstance(sli, list):\n",
    "            yield (levels + [i], sli)\n",
    "        else:\n",
    "            yield from dump(sli, levels + [i])\n",
    "def snailfish_reduce(oli):\n",
    "    oli = oli.copy()\n",
    "    finished = False\n",
    "    while not finished:\n",
    "        lvl_list = list(dump(oli))\n",
    "        finished = True\n",
    "        for i in range(len(lvl_list)):\n",
    "            if i<len(lvl_list)-1:\n",
    "                if len(lvl_list[i][0])>=5 and lvl_list[i][0][:-1]==lvl_list[i+1][0][:-1]: #If we are inside 4 pairs and the next element is a regular number in the same pair.\n",
    "                    #print(oli)\n",
    "                    if i>0:\n",
    "                        add_nested(oli,lvl_list[i-1][0],lvl_list[i][1])\n",
    "                    if i+1<len(lvl_list)-1:\n",
    "                        add_nested(oli,lvl_list[i+2][0],lvl_list[i+1][1])\n",
    "                    assign_nested(oli,lvl_list[i][0][:-1],0)\n",
    "                    finished = False\n",
    "                    break\n",
    "        if finished:\n",
    "            for i in range(len(lvl_list)):\n",
    "                if lvl_list[i][1]>=10:\n",
    "                    #print(oli)\n",
    "                    assign_nested(oli,lvl_list[i][0],[int(np.floor(lvl_list[i][1]/2)),int(np.ceil(lvl_list[i][1]/2))])\n",
    "                    finished = False\n",
    "                    break\n",
    "    return oli"
   ]
  },
  {
   "cell_type": "code",
   "execution_count": 504,
   "id": "f6d30705-718a-4b5a-87e9-5204dde9c21e",
   "metadata": {},
   "outputs": [
    {
     "data": {
      "text/plain": [
       "[[[[0, 7], 4], [[7, 8], [6, 0]]], [8, 1]]"
      ]
     },
     "execution_count": 504,
     "metadata": {},
     "output_type": "execute_result"
    }
   ],
   "source": [
    "def snailfish_add(lili):\n",
    "    lili = lili.copy()\n",
    "    li1 = lili.pop(0)\n",
    "    while len(lili)>0:\n",
    "        li1 = [li1]\n",
    "        li1.append(lili.pop(0))\n",
    "        snailfish_reduce(li1)\n",
    "    snailfish_reduce(li1)\n",
    "    return li1\n",
    "test = [[[[[4,3],4],4],[7,[[8,4],9]]],[1,1]]\n",
    "snailfish_add(test)"
   ]
  },
  {
   "cell_type": "code",
   "execution_count": 505,
   "id": "714b0090-0481-4651-b6c6-a0fff6f58ba5",
   "metadata": {},
   "outputs": [],
   "source": [
    "def snailfish_magnitude(oli):\n",
    "    oli = oli.copy()\n",
    "    finished = False\n",
    "    while not finished:\n",
    "        lvl_list = list(dump(oli))\n",
    "        for i in range(len(lvl_list)-1):\n",
    "            finished = True\n",
    "            if lvl_list[i][0][:-1]==lvl_list[i+1][0][:-1]: #If the next element is a regular number in the same pair.\n",
    "                mag = 3*lvl_list[i][1]+2*lvl_list[i+1][1]\n",
    "                if len(lvl_list[i][0])>1:\n",
    "                    assign_nested(oli,lvl_list[i][0][:-1],mag)\n",
    "                    finished = False\n",
    "                else:\n",
    "                    oli = mag\n",
    "                break\n",
    "    return oli"
   ]
  },
  {
   "cell_type": "code",
   "execution_count": 506,
   "id": "c32856c7-0631-40b9-8a2d-6a564182b28c",
   "metadata": {},
   "outputs": [],
   "source": [
    "with open(\"18dec-test.txt\") as f:\n",
    "    test_data = [json.loads(line.strip()) for line in f.readlines()]"
   ]
  },
  {
   "cell_type": "code",
   "execution_count": 467,
   "id": "99e5635f-3fc9-4a1f-9b8b-6397814174df",
   "metadata": {},
   "outputs": [
    {
     "data": {
      "text/plain": [
       "4140"
      ]
     },
     "execution_count": 467,
     "metadata": {},
     "output_type": "execute_result"
    }
   ],
   "source": [
    "test2=snailfish_add(test_data)\n",
    "snailfish_magnitude(test2)"
   ]
  },
  {
   "cell_type": "code",
   "execution_count": 507,
   "id": "5f5aad32-1861-4f3b-bbd8-c6a775a6e0e3",
   "metadata": {},
   "outputs": [],
   "source": [
    "with open(\"18dec-data.txt\") as f:\n",
    "    my_data = [json.loads(line.strip()) for line in f.readlines()]"
   ]
  },
  {
   "cell_type": "code",
   "execution_count": 508,
   "id": "7e7b17b2-a80d-4733-a191-821e0d973a01",
   "metadata": {},
   "outputs": [
    {
     "data": {
      "text/plain": [
       "4435"
      ]
     },
     "execution_count": 508,
     "metadata": {},
     "output_type": "execute_result"
    }
   ],
   "source": [
    "snailfish_magnitude(snailfish_add(my_data))"
   ]
  },
  {
   "cell_type": "code",
   "execution_count": 499,
   "id": "7c4b7bd8-40ea-4f22-a526-99e9ccbea830",
   "metadata": {},
   "outputs": [
    {
     "data": {
      "text/plain": [
       "4802"
      ]
     },
     "execution_count": 499,
     "metadata": {},
     "output_type": "execute_result"
    }
   ],
   "source": [
    "#my_data = test_data\n",
    "my_pairs = []\n",
    "for i in range(len(my_data[:])):\n",
    "    for j in range(len(my_data[:])):\n",
    "        if i != j:\n",
    "            my_pairs.append(copy.deepcopy([my_data[i],my_data[j]]))\n",
    "my_sums = [snailfish_magnitude(snailfish_add(pair)) for pair in my_pairs]\n",
    "max(my_sums)"
   ]
  }
 ],
 "metadata": {
  "kernelspec": {
   "display_name": "Python 3 (ipykernel)",
   "language": "python",
   "name": "python3"
  },
  "language_info": {
   "codemirror_mode": {
    "name": "ipython",
    "version": 3
   },
   "file_extension": ".py",
   "mimetype": "text/x-python",
   "name": "python",
   "nbconvert_exporter": "python",
   "pygments_lexer": "ipython3",
   "version": "3.9.7"
  }
 },
 "nbformat": 4,
 "nbformat_minor": 5
}
