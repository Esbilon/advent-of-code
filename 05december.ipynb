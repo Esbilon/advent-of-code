{
 "cells": [
  {
   "cell_type": "code",
   "execution_count": 1,
   "id": "a9fb2548-0efe-48be-a82c-d28761a653c8",
   "metadata": {},
   "outputs": [],
   "source": [
    "## Advent of Code 2021 - December 5"
   ]
  },
  {
   "cell_type": "code",
   "execution_count": 79,
   "id": "bd82b9c4-ef61-485c-845e-db54985cee4a",
   "metadata": {},
   "outputs": [],
   "source": [
    "import numpy as np"
   ]
  },
  {
   "cell_type": "code",
   "execution_count": 122,
   "id": "7e932d74-6d45-46ac-bbaa-fd78a92ddb0a",
   "metadata": {},
   "outputs": [
    {
     "data": {
      "text/plain": [
       "[[[0, 9], [5, 9]],\n",
       " [[0, 8], [8, 0]],\n",
       " [[3, 4], [9, 4]],\n",
       " [[2, 1], [2, 2]],\n",
       " [[7, 0], [7, 4]],\n",
       " [[2, 0], [6, 4]],\n",
       " [[0, 9], [2, 9]],\n",
       " [[1, 4], [3, 4]],\n",
       " [[0, 0], [8, 8]],\n",
       " [[5, 5], [8, 2]]]"
      ]
     },
     "execution_count": 122,
     "metadata": {},
     "output_type": "execute_result"
    }
   ],
   "source": [
    "with open(\"05dec-test.txt\") as f:\n",
    "    test_data = [line.strip() for line in f.readlines()]\n",
    "test_data = [t.split(\" -> \") for t in test_data]\n",
    "for i, line in enumerate(test_data):\n",
    "    for j, point in enumerate(line):\n",
    "        point = point.split(\",\")\n",
    "        test_data[i][j] = [int(point[0]), int(point[1])]\n",
    "    line.sort()\n",
    "test_data"
   ]
  },
  {
   "cell_type": "code",
   "execution_count": 149,
   "id": "c3d242ee-431a-4f34-8d29-e2979d31f3e7",
   "metadata": {},
   "outputs": [
    {
     "data": {
      "text/plain": [
       "5"
      ]
     },
     "execution_count": 149,
     "metadata": {},
     "output_type": "execute_result"
    }
   ],
   "source": [
    "def cover_points(line_data):\n",
    "    cover = []\n",
    "    hits = []\n",
    "    for line in line_data:\n",
    "        if line[0][0] == line[1][0]:\n",
    "            for y in range(line[0][1],line[1][1]+1):\n",
    "                cover.append([line[0][0],y])\n",
    "        if line[0][1] == line[1][1]:\n",
    "            for x in range(line[0][0],line[1][0]+1):\n",
    "                cover.append([x,line[0][1]])\n",
    "    xmax = max(np.array(cover)[:,1])\n",
    "    ymax = max(np.array(cover)[:,0])\n",
    "    hits = np.zeros((xmax+1, ymax+1))\n",
    "    for x in cover:\n",
    "        hits[x[1],x[0]] += 1\n",
    "    return np.count_nonzero(hits>1)#, hits\n",
    "cover_points(test_data)"
   ]
  },
  {
   "cell_type": "code",
   "execution_count": 152,
   "id": "b85e744f-6676-4e5b-8bc9-fbb799739713",
   "metadata": {},
   "outputs": [],
   "source": [
    "with open(\"05dec-data.txt\") as f:\n",
    "    data = [line.strip() for line in f.readlines()]\n",
    "data = [t.split(\" -> \") for t in data]\n",
    "for i, line in enumerate(data):\n",
    "    for j, point in enumerate(line):\n",
    "        point = point.split(\",\")\n",
    "        data[i][j] = [int(point[0]), int(point[1])]\n",
    "    line.sort()\n",
    "    "
   ]
  },
  {
   "cell_type": "code",
   "execution_count": 153,
   "id": "0964bcff-7185-4247-b91e-a200fe89b088",
   "metadata": {},
   "outputs": [
    {
     "data": {
      "text/plain": [
       "5306"
      ]
     },
     "execution_count": 153,
     "metadata": {},
     "output_type": "execute_result"
    }
   ],
   "source": [
    "cover_points(data)"
   ]
  },
  {
   "cell_type": "code",
   "execution_count": 156,
   "id": "db92964a-99f7-40ff-8493-18226fd2801e",
   "metadata": {},
   "outputs": [
    {
     "data": {
      "text/plain": [
       "[[[0, 9], [5, 9]],\n",
       " [[0, 8], [8, 0]],\n",
       " [[3, 4], [9, 4]],\n",
       " [[2, 1], [2, 2]],\n",
       " [[7, 0], [7, 4]],\n",
       " [[2, 0], [6, 4]],\n",
       " [[0, 9], [2, 9]],\n",
       " [[1, 4], [3, 4]],\n",
       " [[0, 0], [8, 8]],\n",
       " [[5, 5], [8, 2]]]"
      ]
     },
     "execution_count": 156,
     "metadata": {},
     "output_type": "execute_result"
    }
   ],
   "source": [
    "test_data"
   ]
  },
  {
   "cell_type": "code",
   "execution_count": 160,
   "id": "d7530964-018f-45bf-b03d-e8e63f7579ec",
   "metadata": {},
   "outputs": [
    {
     "data": {
      "text/plain": [
       "12"
      ]
     },
     "execution_count": 160,
     "metadata": {},
     "output_type": "execute_result"
    }
   ],
   "source": [
    "def cover_points_diag(line_data):\n",
    "    cover = []\n",
    "    hits = []\n",
    "    for line in line_data:\n",
    "        if line[0][0] == line[1][0]:\n",
    "            for y in range(line[0][1],line[1][1]+1):\n",
    "                cover.append([line[0][0],y])\n",
    "        elif line[0][1] == line[1][1]:\n",
    "            for x in range(line[0][0],line[1][0]+1):\n",
    "                cover.append([x,line[0][1]])\n",
    "        elif line[0][1] > line[1][1]:\n",
    "            for dy, x in enumerate(range(line[0][0],line[1][0]+1)):\n",
    "                cover.append([x,line[0][1]-dy])\n",
    "        elif line[0][1] < line[1][1]:\n",
    "            for dy, x in enumerate(range(line[0][0],line[1][0]+1)):\n",
    "                cover.append([x,line[0][1]+dy])\n",
    "    xmax = max(np.array(cover)[:,1])\n",
    "    ymax = max(np.array(cover)[:,0])\n",
    "    hits = np.zeros((xmax+1, ymax+1))\n",
    "    for x in cover:\n",
    "        hits[x[1],x[0]] += 1\n",
    "    return np.count_nonzero(hits>1)#, hits\n",
    "cover_points_diag(test_data)"
   ]
  },
  {
   "cell_type": "code",
   "execution_count": 161,
   "id": "0062f115-972d-4632-bd6e-1053fdb2763c",
   "metadata": {},
   "outputs": [
    {
     "data": {
      "text/plain": [
       "17787"
      ]
     },
     "execution_count": 161,
     "metadata": {},
     "output_type": "execute_result"
    }
   ],
   "source": [
    "cover_points_diag(data)"
   ]
  },
  {
   "cell_type": "code",
   "execution_count": null,
   "id": "9706ea15-f71a-4d5a-915c-a6b721605574",
   "metadata": {},
   "outputs": [],
   "source": []
  }
 ],
 "metadata": {
  "kernelspec": {
   "display_name": "Python 3 (ipykernel)",
   "language": "python",
   "name": "python3"
  },
  "language_info": {
   "codemirror_mode": {
    "name": "ipython",
    "version": 3
   },
   "file_extension": ".py",
   "mimetype": "text/x-python",
   "name": "python",
   "nbconvert_exporter": "python",
   "pygments_lexer": "ipython3",
   "version": "3.9.7"
  }
 },
 "nbformat": 4,
 "nbformat_minor": 5
}
