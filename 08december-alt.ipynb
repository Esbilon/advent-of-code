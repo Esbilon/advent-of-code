{
 "cells": [
  {
   "cell_type": "code",
   "execution_count": 1,
   "id": "cc69d05b-a72b-4798-bd15-badf149bf9db",
   "metadata": {},
   "outputs": [],
   "source": [
    "# Advent of Code 2021 - December 8 - alternate"
   ]
  },
  {
   "cell_type": "code",
   "execution_count": 17,
   "id": "b9c7bf0d-8874-4509-9fd3-143002266d93",
   "metadata": {},
   "outputs": [],
   "source": [
    "import numpy as np\n",
    "import string"
   ]
  },
  {
   "cell_type": "code",
   "execution_count": 29,
   "id": "6d5cbb75-90fd-401a-a0ef-0479cdbb44df",
   "metadata": {},
   "outputs": [],
   "source": [
    "numList = []\n",
    "numList.append(np.diag([1,1,1,0,1,1,1]))\n",
    "numList.append(np.diag([0,0,1,0,0,1,0]))\n",
    "numList.append(np.diag([1,0,1,1,1,0,1]))\n",
    "numList.append(np.diag([1,0,1,1,0,1,1]))\n",
    "numList.append(np.diag([0,1,1,1,0,1,0]))\n",
    "numList.append(np.diag([1,1,0,1,0,1,1]))\n",
    "numList.append(np.diag([1,1,0,1,1,1,1]))\n",
    "numList.append(np.diag([1,0,1,0,0,1,0]))\n",
    "numList.append(np.diag([1,1,1,1,1,1,1]))\n",
    "numList.append(np.diag([1,1,1,1,0,1,1]))"
   ]
  },
  {
   "cell_type": "code",
   "execution_count": 33,
   "id": "fc84ea18-e7d4-4629-9c41-c7d1b45122bc",
   "metadata": {},
   "outputs": [],
   "source": [
    "base_mat = np.matmul(numList,np.ones(7)).transpose()"
   ]
  },
  {
   "cell_type": "code",
   "execution_count": 15,
   "id": "fe15998d-2e60-4c8d-906d-9f3db8283b1b",
   "metadata": {},
   "outputs": [],
   "source": [
    "with open(\"08dec-test.txt\") as f:\n",
    "    test_data = [line.strip() for line in f.readlines()]\n",
    "    test_data = [line.split(\"|\") for line in test_data]\n",
    "    test_signal = [line[0].split() for line in test_data]\n",
    "    test_output = [line[1].split() for line in test_data]"
   ]
  },
  {
   "cell_type": "code",
   "execution_count": 24,
   "id": "486432a2-5faa-4f8d-bc0a-12598c14d3ba",
   "metadata": {},
   "outputs": [],
   "source": [
    "test_signal[0]"
   ]
  },
  {
   "cell_type": "code",
   "execution_count": 20,
   "id": "6295810e-c39d-4b96-916b-dedafb96fdd0",
   "metadata": {},
   "outputs": [],
   "source": [
    "alphabet_list = list(string.ascii_lowercase)\n",
    "alpha7 = alphabet_list[:7]"
   ]
  },
  {
   "cell_type": "code",
   "execution_count": 90,
   "id": "fb16deab-3c17-4b56-a138-81a50f0e7451",
   "metadata": {},
   "outputs": [
    {
     "data": {
      "text/plain": [
       "array([[0., 1., 0., 1., 0., 0., 1., 0., 1., 0.],\n",
       "       [1., 1., 1., 0., 1., 0., 1., 1., 1., 1.],\n",
       "       [0., 1., 1., 1., 1., 1., 0., 1., 1., 0.],\n",
       "       [0., 1., 1., 1., 0., 1., 1., 1., 1., 1.],\n",
       "       [1., 1., 1., 1., 1., 1., 1., 1., 0., 1.],\n",
       "       [0., 1., 1., 1., 0., 1., 1., 1., 1., 0.],\n",
       "       [0., 1., 1., 1., 1., 1., 1., 0., 0., 0.]])"
      ]
     },
     "execution_count": 90,
     "metadata": {},
     "output_type": "execute_result"
    }
   ],
   "source": [
    "def signal_mat(signal):\n",
    "    signal_array = np.zeros((len(signal),7))\n",
    "    for i,s in enumerate(signal):\n",
    "        for j,char in enumerate(alpha7):\n",
    "            if char in list(s):\n",
    "                signal_array[i,j] = 1\n",
    "    return signal_array.transpose()\n",
    "signal_mat(test_signal[0])"
   ]
  },
  {
   "cell_type": "code",
   "execution_count": 49,
   "id": "e60ac4ed-4592-49e1-bb2d-1a18a1d255ae",
   "metadata": {},
   "outputs": [
    {
     "data": {
      "text/plain": [
       "[[2, 1], [3, 7], [4, 4], [7, 8]]"
      ]
     },
     "execution_count": 49,
     "metadata": {},
     "output_type": "execute_result"
    }
   ],
   "source": [
    "col_sums = np.unique(base_mat.sum(axis=0),return_index=True,return_counts=True)\n",
    "ucols = []\n",
    "for i in range(len(col_sums[0])):\n",
    "    if col_sums[2][i]==1:\n",
    "        ucols.append([int(col_sums[0][i]),col_sums[1][i]])\n",
    "ucols"
   ]
  },
  {
   "cell_type": "code",
   "execution_count": 50,
   "id": "b53c7fcc-a418-40b2-8daf-28e6b45ddd33",
   "metadata": {},
   "outputs": [
    {
     "data": {
      "text/plain": [
       "[[4, 4], [6, 1], [9, 5]]"
      ]
     },
     "execution_count": 50,
     "metadata": {},
     "output_type": "execute_result"
    }
   ],
   "source": [
    "row_sums = np.unique(base_mat.sum(axis=1),return_index=True,return_counts=True)\n",
    "urows = []\n",
    "for i in range(len(row_sums[0])):\n",
    "    if row_sums[2][i]==1:\n",
    "        urows.append([int(row_sums[0][i]),row_sums[1][i]])\n",
    "urows"
   ]
  },
  {
   "cell_type": "code",
   "execution_count": 59,
   "id": "da19a8c9-5e10-4205-9a01-c0791e506843",
   "metadata": {},
   "outputs": [
    {
     "data": {
      "text/plain": [
       "array([[1., 0., 1., 1., 0., 1., 1., 1., 1., 1.],\n",
       "       [1., 0., 0., 0., 1., 1., 1., 0., 1., 1.],\n",
       "       [1., 1., 1., 1., 1., 0., 0., 1., 1., 1.],\n",
       "       [0., 0., 1., 1., 1., 1., 1., 0., 1., 1.],\n",
       "       [1., 0., 1., 0., 0., 0., 1., 0., 1., 0.],\n",
       "       [1., 1., 0., 1., 1., 1., 1., 1., 1., 1.],\n",
       "       [1., 0., 1., 1., 0., 1., 1., 0., 1., 1.]])"
      ]
     },
     "execution_count": 59,
     "metadata": {},
     "output_type": "execute_result"
    }
   ],
   "source": [
    "base_mat"
   ]
  },
  {
   "cell_type": "code",
   "execution_count": 88,
   "id": "7cd98a66-e3c3-4332-8ac8-2913c71b1dd4",
   "metadata": {},
   "outputs": [
    {
     "data": {
      "text/plain": [
       "array([[1., 0., 1., 1., 0., 1., 1., 1., 1., 1.],\n",
       "       [0., 0., 1., 1., 1., 1., 1., 0., 1., 0.],\n",
       "       [1., 1., 1., 0., 1., 0., 1., 1., 1., 1.],\n",
       "       [1., 0., 1., 1., 1., 1., 0., 0., 1., 1.],\n",
       "       [1., 0., 1., 1., 0., 1., 1., 0., 1., 1.],\n",
       "       [0., 1., 1., 1., 1., 1., 1., 1., 1., 1.],\n",
       "       [1., 0., 0., 1., 0., 0., 1., 0., 1., 0.],\n",
       "       [8., 0., 2., 3., 4., 5., 6., 9., 1., 7.]])"
      ]
     },
     "execution_count": 88,
     "metadata": {},
     "output_type": "execute_result"
    }
   ],
   "source": [
    "#Do column switches until 1, 4, 7, 8 are in place.\n",
    "#Do row switches until all numbers align correctly\n",
    "#Do column switches until done.\n",
    "test_mat = signal_mat(test_signal[0])\n",
    "test_mat = np.vstack([test_mat,list(range(10))])\n",
    "test_mat[:,[0,1]] = test_mat[:,[1,0]]\n",
    "test_mat[:,[4,4]] = test_mat[:,[4,4]]\n",
    "test_mat[:,[9,7]] = test_mat[:,[7,9]]\n",
    "test_mat[:,[0,8]] = test_mat[:,[8,0]]\n",
    "test_mat[[0,3],:] = test_mat[[3,0],:] #The 1 in 7 that isn't in 1 must be a\n",
    "test_mat[[1,2],:] = test_mat[[2,1],:] #The 1 in 1 with sum 8 must be c\n",
    "test_mat[[4,5],:] = test_mat[[5,4],:] #The 1 in 1 with sum 7 must be f\n",
    "test_mat[[1,6],:] = test_mat[[6,1],:] #The 1 in 4 that's not in 1 with sum 6 must be b\n",
    "test_mat[[3,6],:] = test_mat[[6,3],:] #The 1 in 4 that's not in 1 with sum 7 must be d\n",
    "test_mat[[4,6],:] = test_mat[[6,4],:] #row e has sum 4, row g has sum 7.\n",
    "test_mat[:,[0,6]] = test_mat[:,[6,0]]\n",
    "test_mat[:,[2,6]] = test_mat[:,[6,2]]\n",
    "test_mat[:,[3,9]] = test_mat[:,[9,3]]\n",
    "test_mat[:,[6,9]] = test_mat[:,[9,6]]\n",
    "test_mat"
   ]
  },
  {
   "cell_type": "code",
   "execution_count": 118,
   "id": "2f34ae06-8364-4491-bc1a-00fd428b0c88",
   "metadata": {},
   "outputs": [
    {
     "data": {
      "text/plain": [
       "8394"
      ]
     },
     "execution_count": 118,
     "metadata": {},
     "output_type": "execute_result"
    }
   ],
   "source": [
    "trans_list = [[0,3],[1,2],[4,5],[1,6],[3,6],[4,6]]\n",
    "def trans_output(output,trans):\n",
    "    res = []\n",
    "    for t in trans:\n",
    "        output[t,:] = output[t[::-1],:]\n",
    "    for o in output.transpose():\n",
    "        for i, b in enumerate(base_mat.transpose()):\n",
    "#            print(o,b)\n",
    "            if np.array_equal(o, b):\n",
    "                res.append(i)\n",
    "    res_no = 0\n",
    "    for n,r in enumerate(res):\n",
    "        res_no += r*10**(3-n)\n",
    "    return res_no\n",
    "trans_output(signal_mat(test_output[0]),trans_list)\n"
   ]
  },
  {
   "cell_type": "code",
   "execution_count": 109,
   "id": "bcb6f048-794f-4541-b49d-cbcec245ef16",
   "metadata": {},
   "outputs": [
    {
     "data": {
      "text/plain": [
       "True"
      ]
     },
     "execution_count": 109,
     "metadata": {},
     "output_type": "execute_result"
    }
   ],
   "source": [
    "trans_output(signal_mat(test_output[0]),trans_list) in base_mat.transpose()"
   ]
  },
  {
   "cell_type": "code",
   "execution_count": 106,
   "id": "057da2e8-14ec-49ed-b406-d0142d001752",
   "metadata": {},
   "outputs": [
    {
     "data": {
      "text/plain": [
       "array([[1., 1., 1., 0., 1., 1., 1.],\n",
       "       [0., 0., 1., 0., 0., 1., 0.],\n",
       "       [1., 0., 1., 1., 1., 0., 1.],\n",
       "       [1., 0., 1., 1., 0., 1., 1.],\n",
       "       [0., 1., 1., 1., 0., 1., 0.],\n",
       "       [1., 1., 0., 1., 0., 1., 1.],\n",
       "       [1., 1., 0., 1., 1., 1., 1.],\n",
       "       [1., 0., 1., 0., 0., 1., 0.],\n",
       "       [1., 1., 1., 1., 1., 1., 1.],\n",
       "       [1., 1., 1., 1., 0., 1., 1.]])"
      ]
     },
     "execution_count": 106,
     "metadata": {},
     "output_type": "execute_result"
    }
   ],
   "source": [
    "base_mat.transpose()"
   ]
  },
  {
   "cell_type": "code",
   "execution_count": null,
   "id": "5314b893-497f-4a37-9259-bbc8170dc04a",
   "metadata": {},
   "outputs": [],
   "source": []
  }
 ],
 "metadata": {
  "kernelspec": {
   "display_name": "Python 3 (ipykernel)",
   "language": "python",
   "name": "python3"
  },
  "language_info": {
   "codemirror_mode": {
    "name": "ipython",
    "version": 3
   },
   "file_extension": ".py",
   "mimetype": "text/x-python",
   "name": "python",
   "nbconvert_exporter": "python",
   "pygments_lexer": "ipython3",
   "version": "3.9.8"
  }
 },
 "nbformat": 4,
 "nbformat_minor": 5
}
