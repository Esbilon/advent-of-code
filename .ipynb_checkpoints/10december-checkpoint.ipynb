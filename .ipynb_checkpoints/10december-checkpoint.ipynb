{
 "cells": [
  {
   "cell_type": "code",
   "execution_count": 1,
   "id": "b081e4c4-7c36-49bb-98ac-8e05fbf04ac2",
   "metadata": {},
   "outputs": [],
   "source": [
    "## Advent of Code 2021 - December 10"
   ]
  },
  {
   "cell_type": "code",
   "execution_count": 4,
   "id": "b7132397-5ea5-4287-b701-23830a028e4e",
   "metadata": {},
   "outputs": [],
   "source": [
    "with open(\"10dec-test.txt\") as f:\n",
    "    test_data = [line.strip() for line in f.readlines()]\n",
    "    test_data = [[char for char in line] for line in test_data]"
   ]
  },
  {
   "cell_type": "code",
   "execution_count": 24,
   "id": "bb91f6fb-2642-4a9a-a43a-ed2efbc73491",
   "metadata": {},
   "outputs": [],
   "source": [
    "points_dict = {\"(\": -3, \"[\": -57, \"{\": -1197, \"<\": -25137, \")\": 3, \"]\": 57, \"}\": 1197, \">\": 25137}\n",
    "completion_points_dict = {\"(\": 1, \"[\": 2, \"{\": 3, \"<\": 4}"
   ]
  },
  {
   "cell_type": "code",
   "execution_count": 16,
   "id": "4cf32ffe-f9a0-4cf7-bd6c-b9868425e664",
   "metadata": {},
   "outputs": [
    {
     "data": {
      "text/plain": [
       "26397"
      ]
     },
     "execution_count": 16,
     "metadata": {},
     "output_type": "execute_result"
    }
   ],
   "source": [
    "def corrupt_score(data):\n",
    "    points = 0\n",
    "    for line in data:\n",
    "        point_list = []\n",
    "        for char in line:\n",
    "            if points_dict[char]<0:\n",
    "                point_list.append(char)\n",
    "            elif points_dict[char] + points_dict[point_list[-1]] == 0:\n",
    "                point_list.pop(-1)\n",
    "            else:\n",
    "                points += points_dict[char]\n",
    "                break\n",
    "    return points\n",
    "corrupt_score(test_data)"
   ]
  },
  {
   "cell_type": "code",
   "execution_count": 17,
   "id": "e9ae6143-8081-4f9b-8fe5-a254b16a1eb9",
   "metadata": {},
   "outputs": [],
   "source": [
    "with open(\"10dec-data.txt\") as f:\n",
    "    data = [line.strip() for line in f.readlines()]\n",
    "    data = [[char for char in line] for line in data]"
   ]
  },
  {
   "cell_type": "code",
   "execution_count": 18,
   "id": "4ac100b9-97b2-4af1-964d-ea2d8252d40c",
   "metadata": {},
   "outputs": [
    {
     "data": {
      "text/plain": [
       "388713"
      ]
     },
     "execution_count": 18,
     "metadata": {},
     "output_type": "execute_result"
    }
   ],
   "source": [
    "corrupt_score(data)"
   ]
  },
  {
   "cell_type": "code",
   "execution_count": 34,
   "id": "61b8a3ca-8381-4185-8a90-231542636e1e",
   "metadata": {},
   "outputs": [
    {
     "data": {
      "text/plain": [
       "288957"
      ]
     },
     "execution_count": 34,
     "metadata": {},
     "output_type": "execute_result"
    }
   ],
   "source": [
    "def completion_score(data):\n",
    "    line_points = [[0]]\n",
    "    line_idx = 0\n",
    "    for line in data:\n",
    "        line_points[line_idx] = 0\n",
    "        incomplete = True\n",
    "        point_list = []\n",
    "        for char in line:\n",
    "            if points_dict[char]<0:\n",
    "                point_list.append(char)\n",
    "            elif points_dict[char] + points_dict[point_list[-1]] == 0:\n",
    "                point_list.pop(-1)\n",
    "            else:\n",
    "                incomplete = False\n",
    "                break\n",
    "        if incomplete:\n",
    "            point_list.reverse()\n",
    "            for char in point_list:\n",
    "                line_points[line_idx] = 5*line_points[line_idx]\n",
    "                line_points[line_idx] += completion_points_dict[char]\n",
    "            line_idx += 1\n",
    "            line_points.append(0)\n",
    "    line_points.pop(-1)\n",
    "    mid = int(len(line_points)/2)\n",
    "    return sorted(line_points)[mid]\n",
    "completion_score(test_data)"
   ]
  },
  {
   "cell_type": "code",
   "execution_count": 35,
   "id": "2cda5168-0c84-4005-b763-56acdd07b1fc",
   "metadata": {},
   "outputs": [
    {
     "data": {
      "text/plain": [
       "3539961434"
      ]
     },
     "execution_count": 35,
     "metadata": {},
     "output_type": "execute_result"
    }
   ],
   "source": [
    "completion_score(data)"
   ]
  }
 ],
 "metadata": {
  "kernelspec": {
   "display_name": "Python 3 (ipykernel)",
   "language": "python",
   "name": "python3"
  },
  "language_info": {
   "codemirror_mode": {
    "name": "ipython",
    "version": 3
   },
   "file_extension": ".py",
   "mimetype": "text/x-python",
   "name": "python",
   "nbconvert_exporter": "python",
   "pygments_lexer": "ipython3",
   "version": "3.9.8"
  }
 },
 "nbformat": 4,
 "nbformat_minor": 5
}
