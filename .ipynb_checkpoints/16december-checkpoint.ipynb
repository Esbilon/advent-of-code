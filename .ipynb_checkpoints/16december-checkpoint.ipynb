{
 "cells": [
  {
   "cell_type": "code",
   "execution_count": 1,
   "id": "a9a3a7af-984e-49e8-bc2e-98f5a2646591",
   "metadata": {},
   "outputs": [],
   "source": [
    "## Advent of Code 2021 - December 16"
   ]
  },
  {
   "cell_type": "code",
   "execution_count": 112,
   "id": "9889a041-d922-4446-b16a-ca19ee160df5",
   "metadata": {},
   "outputs": [],
   "source": [
    "import numpy as np"
   ]
  },
  {
   "cell_type": "code",
   "execution_count": 10,
   "id": "9358a1ea-3abd-4c14-8220-b6f491ce27e8",
   "metadata": {},
   "outputs": [],
   "source": [
    "def hex_to_bin(hex_str):\n",
    "    scale = 16\n",
    "    num_of_bits = len(hex_str)*4\n",
    "    bin_str = bin(int(hex_str, scale))[2:].zfill(num_of_bits)\n",
    "    return bin_str"
   ]
  },
  {
   "cell_type": "code",
   "execution_count": 109,
   "id": "6a7c872d-23aa-4c5a-8b08-6fead1ea57aa",
   "metadata": {},
   "outputs": [],
   "source": [
    "globalVerSum = 0\n",
    "\n",
    "def decode_hex(hex_str):\n",
    "    bin_str = hex_to_bin(hex_str)\n",
    "    return decode_bin(bin_str)\n",
    "def decode_bin(bin_str):\n",
    "    global globalVerSum\n",
    "    ver = int(bin_str[:3],2)\n",
    "    globalVerSum += ver\n",
    "    typ = int(bin_str[3:6],2)\n",
    "    if typ == 4:\n",
    "        num_str = \"\"\n",
    "        not_last = True\n",
    "        idx = 0\n",
    "        while not_last:\n",
    "            num_str += bin_str[7+idx*5:11+idx*5]\n",
    "            if bin_str[6+idx*5] == '0':\n",
    "                not_last = False\n",
    "            else:\n",
    "                idx += 1\n",
    "        out = int(num_str,2)\n",
    "        pack_len = 11+idx*5\n",
    "    else:\n",
    "        l_id = int(bin_str[6],2)\n",
    "        if l_id == 0:\n",
    "            length = int(bin_str[7:22],2) # 22 = 7+15\n",
    "            out = []\n",
    "            out.append(decode_bin(bin_str[22:22+length]))\n",
    "            head = out[-1][-1]\n",
    "            while head<length:\n",
    "                out.append(decode_bin(bin_str[22+head:22+length]))\n",
    "                head += out[-1][-1]\n",
    "            pack_len = 22+length\n",
    "        elif l_id == 1:\n",
    "            no_sub = int(bin_str[7:18],2) # 18 = 7+11\n",
    "            out = []\n",
    "            pack_len = 18\n",
    "            for n in range(no_sub):\n",
    "                out.append(decode_bin(bin_str[pack_len:]))\n",
    "                pack_len += out[-1][-1]\n",
    "    return ver, typ, out, pack_len\n",
    "#decode_hex('D2FE28')\n",
    "#decode_hex('38006F45291200')\n",
    "#decode_hex('EE00D40C823060')"
   ]
  },
  {
   "cell_type": "code",
   "execution_count": 96,
   "id": "9359157c-8e92-473a-9ae4-f19513b82f27",
   "metadata": {},
   "outputs": [
    {
     "data": {
      "text/plain": [
       "31"
      ]
     },
     "execution_count": 96,
     "metadata": {},
     "output_type": "execute_result"
    }
   ],
   "source": [
    "globalVerSum = 0\n",
    "test = decode_hex('A0016C880162017C3686B18A3D4780')\n",
    "globalVerSum"
   ]
  },
  {
   "cell_type": "code",
   "execution_count": 97,
   "id": "09fc6275-6128-457b-84ce-bca5cf2fe5eb",
   "metadata": {},
   "outputs": [],
   "source": [
    "my_input = \"60552F100693298A9EF0039D24B129BA56D67282E600A4B5857002439CE580E5E5AEF67803600D2E294B2FCE8AC489BAEF37FEACB31A678548034EA0086253B183F4F6BDDE864B13CBCFBC4C10066508E3F4B4B9965300470026E92DC2960691F7F3AB32CBE834C01A9B7A933E9D241003A520DF316647002E57C1331DFCE16A249802DA009CAD2117993CD2A253B33C8BA00277180390F60E45D30062354598AA4008641A8710FCC01492FB75004850EE5210ACEF68DE2A327B12500327D848028ED0046661A209986896041802DA0098002131621842300043E3C4168B12BCB6835C00B6033F480C493003C40080029F1400B70039808AC30024C009500208064C601674804E870025003AA400BED8024900066272D7A7F56A8FB0044B272B7C0E6F2392E3460094FAA5002512957B98717004A4779DAECC7E9188AB008B93B7B86CB5E47B2B48D7CAD3328FB76B40465243C8018F49CA561C979C182723D769642200412756271FC80460A00CC0401D8211A2270803D10A1645B947B3004A4BA55801494BC330A5BB6E28CCE60BE6012CB2A4A854A13CD34880572523898C7EDE1A9FA7EED53F1F38CD418080461B00440010A845152360803F0FA38C7798413005E4FB102D004E6492649CC017F004A448A44826AB9BFAB5E0AA8053306B0CE4D324BB2149ADDA2904028600021909E0AC7F0004221FC36826200FC3C8EB10940109DED1960CCE9A1008C731CB4FD0B8BD004872BC8C3A432BC8C3A4240231CF1C78028200F41485F100001098EB1F234900505224328612AF33A97367EA00CC4585F315073004E4C2B003530004363847889E200C45985F140C010A005565FD3F06C249F9E3BC8280804B234CA3C962E1F1C64ADED77D10C3002669A0C0109FB47D9EC58BC01391873141197DCBCEA401E2CE80D0052331E95F373798F4AF9B998802D3B64C9AB6617080\""
   ]
  },
  {
   "cell_type": "code",
   "execution_count": 99,
   "id": "7255c77d-7c92-40f4-adfc-43de8f7e7404",
   "metadata": {},
   "outputs": [
    {
     "data": {
      "text/plain": [
       "877"
      ]
     },
     "execution_count": 99,
     "metadata": {},
     "output_type": "execute_result"
    }
   ],
   "source": [
    "globalVerSum = 0\n",
    "test = decode_hex(my_input)\n",
    "globalVerSum"
   ]
  },
  {
   "cell_type": "code",
   "execution_count": 137,
   "id": "f5ad68d2-b838-41a8-b2b9-409706b9eb3d",
   "metadata": {},
   "outputs": [
    {
     "data": {
      "text/plain": [
       "(4, 7, 1, 102)"
      ]
     },
     "execution_count": 137,
     "metadata": {},
     "output_type": "execute_result"
    }
   ],
   "source": [
    "def eval_hex(hex_str):\n",
    "    bin_str = hex_to_bin(hex_str)\n",
    "    return eval_bin(bin_str)\n",
    "def eval_bin(bin_str):\n",
    "    ver = int(bin_str[:3],2)\n",
    "    typ = int(bin_str[3:6],2)\n",
    "    if typ == 4:\n",
    "        num_str = \"\"\n",
    "        not_last = True\n",
    "        idx = 0\n",
    "        while not_last:\n",
    "            num_str += bin_str[7+idx*5:11+idx*5]\n",
    "            if bin_str[6+idx*5] == '0':\n",
    "                not_last = False\n",
    "            else:\n",
    "                idx += 1\n",
    "        out = int(num_str,2)\n",
    "        pack_len = 11+idx*5\n",
    "    else:\n",
    "        l_id = int(bin_str[6],2)\n",
    "        if l_id == 0:\n",
    "            length = int(bin_str[7:22],2) # 22 = 7+15\n",
    "            out = []\n",
    "            out.append(eval_bin(bin_str[22:22+length]))\n",
    "            head = out[-1][-1]\n",
    "            while head<length:\n",
    "                out.append(eval_bin(bin_str[22+head:22+length]))\n",
    "                head += out[-1][-1]\n",
    "            pack_len = 22+length\n",
    "        elif l_id == 1:\n",
    "            no_sub = int(bin_str[7:18],2) # 18 = 7+11\n",
    "            out = []\n",
    "            pack_len = 18\n",
    "            for n in range(no_sub):\n",
    "                out.append(eval_bin(bin_str[pack_len:]))\n",
    "                pack_len += out[-1][-1]\n",
    "    if typ == 0:\n",
    "        val = [o[2] for o in out]\n",
    "        out = sum(val)\n",
    "    elif typ == 1:\n",
    "        val = [o[2] for o in out]\n",
    "        out = np.prod(val)\n",
    "    elif typ == 2:\n",
    "        val = [o[2] for o in out]\n",
    "        out = min(val)\n",
    "    elif typ == 3:\n",
    "        val = [o[2] for o in out]\n",
    "        out = max(val)\n",
    "    elif typ == 5:\n",
    "        val = [o[2] for o in out]\n",
    "        if val[0]>val[1]:\n",
    "            out = 1\n",
    "        else:\n",
    "            out = 0\n",
    "    elif typ == 6:\n",
    "        val = [o[2] for o in out]\n",
    "        if val[0]<val[1]:\n",
    "            out = 1\n",
    "        else:\n",
    "            out = 0\n",
    "    elif typ == 7:\n",
    "        val = [o[2] for o in out]\n",
    "        if val[0]==val[1]:\n",
    "            out = 1\n",
    "        else:\n",
    "            out = 0\n",
    "    return ver, typ, out, pack_len\n",
    "eval_hex('9C0141080250320F1802104A08')"
   ]
  },
  {
   "cell_type": "code",
   "execution_count": 138,
   "id": "2b831921-d244-471c-ad88-13b59a4d22b1",
   "metadata": {},
   "outputs": [
    {
     "data": {
      "text/plain": [
       "(3, 0, 194435634456, 5473)"
      ]
     },
     "execution_count": 138,
     "metadata": {},
     "output_type": "execute_result"
    }
   ],
   "source": [
    "eval_hex(my_input)"
   ]
  },
  {
   "cell_type": "code",
   "execution_count": null,
   "id": "a9f03875-9c04-4e19-8112-d1e86e8a0a98",
   "metadata": {},
   "outputs": [],
   "source": []
  }
 ],
 "metadata": {
  "kernelspec": {
   "display_name": "Python 3 (ipykernel)",
   "language": "python",
   "name": "python3"
  },
  "language_info": {
   "codemirror_mode": {
    "name": "ipython",
    "version": 3
   },
   "file_extension": ".py",
   "mimetype": "text/x-python",
   "name": "python",
   "nbconvert_exporter": "python",
   "pygments_lexer": "ipython3",
   "version": "3.9.8"
  }
 },
 "nbformat": 4,
 "nbformat_minor": 5
}
