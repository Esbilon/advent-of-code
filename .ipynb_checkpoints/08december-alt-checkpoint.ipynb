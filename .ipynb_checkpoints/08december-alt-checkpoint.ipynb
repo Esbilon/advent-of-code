{
 "cells": [
  {
   "cell_type": "code",
   "execution_count": 1,
   "id": "cc69d05b-a72b-4798-bd15-badf149bf9db",
   "metadata": {},
   "outputs": [],
   "source": [
    "# Advent of Code 2021 - December 8 - alternate"
   ]
  },
  {
   "cell_type": "code",
   "execution_count": 17,
   "id": "b9c7bf0d-8874-4509-9fd3-143002266d93",
   "metadata": {},
   "outputs": [],
   "source": [
    "import numpy as np\n",
    "import string"
   ]
  },
  {
   "cell_type": "code",
   "execution_count": 29,
   "id": "6d5cbb75-90fd-401a-a0ef-0479cdbb44df",
   "metadata": {},
   "outputs": [],
   "source": [
    "numList = []\n",
    "numList.append(np.diag([1,1,1,0,1,1,1]))\n",
    "numList.append(np.diag([0,0,1,0,0,1,0]))\n",
    "numList.append(np.diag([1,0,1,1,1,0,1]))\n",
    "numList.append(np.diag([1,0,1,1,0,1,1]))\n",
    "numList.append(np.diag([0,1,1,1,0,1,0]))\n",
    "numList.append(np.diag([1,1,0,1,0,1,1]))\n",
    "numList.append(np.diag([1,1,0,1,1,1,1]))\n",
    "numList.append(np.diag([1,0,1,0,0,1,0]))\n",
    "numList.append(np.diag([1,1,1,1,1,1,1]))\n",
    "numList.append(np.diag([1,1,1,1,0,1,1]))"
   ]
  },
  {
   "cell_type": "code",
   "execution_count": 30,
   "id": "fc84ea18-e7d4-4629-9c41-c7d1b45122bc",
   "metadata": {},
   "outputs": [
    {
     "data": {
      "text/plain": [
       "array([[1., 0., 1., 1., 0., 1., 1., 1., 1., 1.],\n",
       "       [1., 0., 0., 0., 1., 1., 1., 0., 1., 1.],\n",
       "       [1., 1., 1., 1., 1., 0., 0., 1., 1., 1.],\n",
       "       [0., 0., 1., 1., 1., 1., 1., 0., 1., 1.],\n",
       "       [1., 0., 1., 0., 0., 0., 1., 0., 1., 0.],\n",
       "       [1., 1., 0., 1., 1., 1., 1., 1., 1., 1.],\n",
       "       [1., 0., 1., 1., 0., 1., 1., 0., 1., 1.]])"
      ]
     },
     "execution_count": 30,
     "metadata": {},
     "output_type": "execute_result"
    }
   ],
   "source": [
    "np.matmul(numList,np.ones(7)).transpose()"
   ]
  },
  {
   "cell_type": "code",
   "execution_count": 15,
   "id": "fe15998d-2e60-4c8d-906d-9f3db8283b1b",
   "metadata": {},
   "outputs": [],
   "source": [
    "with open(\"08dec-test.txt\") as f:\n",
    "    test_data = [line.strip() for line in f.readlines()]\n",
    "    test_data = [line.split(\"|\") for line in test_data]\n",
    "    test_signal = [line[0].split() for line in test_data]\n",
    "    test_output = [line[1].split() for line in test_data]"
   ]
  },
  {
   "cell_type": "code",
   "execution_count": 24,
   "id": "486432a2-5faa-4f8d-bc0a-12598c14d3ba",
   "metadata": {},
   "outputs": [],
   "source": [
    "test_signal[0]\n",
    "signal_array = np.zeros((7,7))"
   ]
  },
  {
   "cell_type": "code",
   "execution_count": 20,
   "id": "6295810e-c39d-4b96-916b-dedafb96fdd0",
   "metadata": {},
   "outputs": [],
   "source": [
    "alphabet_list = list(string.ascii_lowercase)\n",
    "alpha7 = alphabet_list[:7]"
   ]
  },
  {
   "cell_type": "code",
   "execution_count": 32,
   "id": "fb16deab-3c17-4b56-a138-81a50f0e7451",
   "metadata": {},
   "outputs": [
    {
     "data": {
      "text/plain": [
       "array([[0., 1., 0., 1., 0., 0., 1., 0., 1., 0.],\n",
       "       [1., 1., 1., 0., 1., 0., 1., 1., 1., 1.],\n",
       "       [0., 1., 1., 1., 1., 1., 0., 1., 1., 0.],\n",
       "       [0., 1., 1., 1., 0., 1., 1., 1., 1., 1.],\n",
       "       [1., 1., 1., 1., 1., 1., 1., 1., 0., 1.],\n",
       "       [0., 1., 1., 1., 0., 1., 1., 1., 1., 0.],\n",
       "       [0., 1., 1., 1., 1., 1., 1., 0., 0., 0.]])"
      ]
     },
     "execution_count": 32,
     "metadata": {},
     "output_type": "execute_result"
    }
   ],
   "source": [
    "def signal_mat(signal):\n",
    "    signal_array = np.zeros((10,7))\n",
    "    for i,s in enumerate(signal):\n",
    "        for j,char in enumerate(alpha7):\n",
    "            if char in list(s):\n",
    "                signal_array[i,j] = 1\n",
    "    return signal_array.transpose()\n",
    "signal_mat(test_signal[0])"
   ]
  },
  {
   "cell_type": "code",
   "execution_count": null,
   "id": "e60ac4ed-4592-49e1-bb2d-1a18a1d255ae",
   "metadata": {},
   "outputs": [],
   "source": []
  }
 ],
 "metadata": {
  "kernelspec": {
   "display_name": "Python 3 (ipykernel)",
   "language": "python",
   "name": "python3"
  },
  "language_info": {
   "codemirror_mode": {
    "name": "ipython",
    "version": 3
   },
   "file_extension": ".py",
   "mimetype": "text/x-python",
   "name": "python",
   "nbconvert_exporter": "python",
   "pygments_lexer": "ipython3",
   "version": "3.9.8"
  }
 },
 "nbformat": 4,
 "nbformat_minor": 5
}
