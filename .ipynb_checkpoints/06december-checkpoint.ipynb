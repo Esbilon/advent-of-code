{
 "cells": [
  {
   "cell_type": "code",
   "execution_count": 1,
   "id": "e3b4279f-6589-4a26-b204-8e2896d6bd88",
   "metadata": {},
   "outputs": [],
   "source": [
    "## Advent of Code 2021 - December 6"
   ]
  },
  {
   "cell_type": "code",
   "execution_count": 43,
   "id": "c13401c6-d83d-4e91-9602-f3cfdc4f6043",
   "metadata": {},
   "outputs": [],
   "source": [
    "import numpy as np"
   ]
  },
  {
   "cell_type": "code",
   "execution_count": 24,
   "id": "28f68a7a-8f88-44ef-abb1-7bc45a77155a",
   "metadata": {},
   "outputs": [],
   "source": [
    "test_data = [3,4,3,1,2]"
   ]
  },
  {
   "cell_type": "code",
   "execution_count": 35,
   "id": "7e9f37a9-00c2-4208-8604-a93d3444de79",
   "metadata": {},
   "outputs": [
    {
     "data": {
      "text/plain": [
       "5934"
      ]
     },
     "execution_count": 35,
     "metadata": {},
     "output_type": "execute_result"
    }
   ],
   "source": [
    "def lantern_pop(flist,days):\n",
    "    fpop = []\n",
    "    fpop.append(flist)\n",
    "    for d in range(days):\n",
    "        dpop = fpop[-1].copy()\n",
    "        for i, f in enumerate(dpop):\n",
    "            f -= 1\n",
    "            if f == -1:\n",
    "                f = 6\n",
    "                dpop.append(9)\n",
    "            dpop[i] = f\n",
    "        fpop.append(dpop)\n",
    "    return len(fpop[-1])\n",
    "lantern_pop(test_data,80)"
   ]
  },
  {
   "cell_type": "code",
   "execution_count": 36,
   "id": "e264023f-144c-451f-a548-71adc36dbc55",
   "metadata": {},
   "outputs": [],
   "source": [
    "data = [1,1,1,1,1,5,1,1,1,5,1,1,3,1,5,1,4,1,5,1,2,5,1,1,1,1,3,1,4,5,1,1,2,1,1,1,2,4,3,2,1,1,2,1,5,4,4,1,4,1,1,1,4,1,3,1,1,1,2,1,1,1,1,1,1,1,5,4,4,2,4,5,2,1,5,3,1,3,3,1,1,5,4,1,1,3,5,1,1,1,4,4,2,4,1,1,4,1,1,2,1,1,1,2,1,5,2,5,1,1,1,4,1,2,1,1,1,2,2,1,3,1,4,4,1,1,3,1,4,1,1,1,2,5,5,1,4,1,4,4,1,4,1,2,4,1,1,4,1,3,4,4,1,1,5,3,1,1,5,1,3,4,2,1,3,1,3,1,1,1,1,1,1,1,1,1,4,5,1,1,1,1,3,1,1,5,1,1,4,1,1,3,1,1,5,2,1,4,4,1,4,1,2,1,1,1,1,2,1,4,1,1,2,5,1,4,4,1,1,1,4,1,1,1,5,3,1,4,1,4,1,1,3,5,3,5,5,5,1,5,1,1,1,1,1,1,1,1,2,3,3,3,3,4,2,1,1,4,5,3,1,1,5,5,1,1,2,1,4,1,3,5,1,1,1,5,2,2,1,4,2,1,1,4,1,3,1,1,1,3,1,5,1,5,1,1,4,1,2,1]"
   ]
  },
  {
   "cell_type": "code",
   "execution_count": 99,
   "id": "73fe9b6b-4f0c-4a03-830f-02cb3b47065f",
   "metadata": {},
   "outputs": [
    {
     "data": {
      "text/plain": [
       "374994"
      ]
     },
     "execution_count": 99,
     "metadata": {},
     "output_type": "execute_result"
    }
   ],
   "source": [
    "lantern_pop(data,80)"
   ]
  },
  {
   "cell_type": "code",
   "execution_count": 102,
   "id": "55fbc914-68dc-4fc6-8747-b60bfb6d036f",
   "metadata": {},
   "outputs": [
    {
     "data": {
      "text/plain": [
       "26"
      ]
     },
     "execution_count": 102,
     "metadata": {},
     "output_type": "execute_result"
    }
   ],
   "source": [
    "def lantern_pop_fast(flist,days):\n",
    "    farray=np.array(flist)\n",
    "    fdict = {}\n",
    "    for i in range(9):\n",
    "        fdict[i] = np.count_nonzero(farray==i)\n",
    "    for d in range(days):\n",
    "        odict = fdict.copy()\n",
    "        fdict[8] = odict[0]\n",
    "        fdict[6] = odict[0]+odict[7]\n",
    "        for i in [0,1,2,3,4,5,7]:\n",
    "            fdict[i] = odict[i+1]\n",
    "    return sum(fdict.values())\n",
    "lantern_pop_fast(test_data,18)"
   ]
  },
  {
   "cell_type": "code",
   "execution_count": 101,
   "id": "7765a61b-5908-42df-a3af-660236686737",
   "metadata": {},
   "outputs": [
    {
     "data": {
      "text/plain": [
       "374994"
      ]
     },
     "execution_count": 101,
     "metadata": {},
     "output_type": "execute_result"
    }
   ],
   "source": [
    "lantern_pop_fast2(data,80)"
   ]
  },
  {
   "cell_type": "code",
   "execution_count": 97,
   "id": "776d8dd6-0382-4130-80e8-6c6148c29276",
   "metadata": {},
   "outputs": [
    {
     "data": {
      "text/plain": [
       "1686252324092"
      ]
     },
     "execution_count": 97,
     "metadata": {},
     "output_type": "execute_result"
    }
   ],
   "source": [
    "lantern_pop_fast2(data,256)"
   ]
  },
  {
   "cell_type": "code",
   "execution_count": null,
   "id": "9799427f-fc48-48af-8f75-b3aa550b4f6e",
   "metadata": {},
   "outputs": [],
   "source": []
  }
 ],
 "metadata": {
  "kernelspec": {
   "display_name": "Python 3 (ipykernel)",
   "language": "python",
   "name": "python3"
  },
  "language_info": {
   "codemirror_mode": {
    "name": "ipython",
    "version": 3
   },
   "file_extension": ".py",
   "mimetype": "text/x-python",
   "name": "python",
   "nbconvert_exporter": "python",
   "pygments_lexer": "ipython3",
   "version": "3.9.8"
  }
 },
 "nbformat": 4,
 "nbformat_minor": 5
}
