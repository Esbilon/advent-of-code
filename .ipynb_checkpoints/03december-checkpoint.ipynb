{
 "cells": [
  {
   "cell_type": "code",
   "execution_count": 10,
   "id": "eb23c73e-eb89-477d-8e50-68161bdcff0a",
   "metadata": {},
   "outputs": [],
   "source": [
    "## Advent of Code 2021 - December 3"
   ]
  },
  {
   "cell_type": "code",
   "execution_count": 11,
   "id": "62c9bdac-9624-467f-a05b-30025c3f0eba",
   "metadata": {},
   "outputs": [],
   "source": [
    "import numpy as np"
   ]
  },
  {
   "cell_type": "code",
   "execution_count": 50,
   "id": "6aefeefe-ee61-44ff-8909-197108467afc",
   "metadata": {},
   "outputs": [],
   "source": [
    "test_data = [\"00100\", \"11110\", \"10110\", \"10111\", \"10101\", \"01111\", \"00111\", \"11100\", \"10000\", \"11001\", \"00010\", \"01010\"]\n",
    "test_data = [list(map(int,list(t))) for t in test_data]"
   ]
  },
  {
   "cell_type": "code",
   "execution_count": 60,
   "id": "c3fb99f3-e147-41b7-8c04-881d7330cdd1",
   "metadata": {},
   "outputs": [
    {
     "data": {
      "text/plain": [
       "(198, [1, 0, 1, 1, 0], [0, 1, 0, 0, 1])"
      ]
     },
     "execution_count": 60,
     "metadata": {},
     "output_type": "execute_result"
    }
   ],
   "source": [
    "def power_cons(dlist):\n",
    "    dlen = len(dlist[0])\n",
    "    digit_sum = np.array([0]*dlen)\n",
    "    for elem in dlist:\n",
    "        digit_sum += np.array(elem)\n",
    "    gamma = []\n",
    "    epsilon = []\n",
    "    for dig in digit_sum:\n",
    "        if dig >= len(dlist)/2:\n",
    "            gamma.append(1)\n",
    "            epsilon.append(0)\n",
    "        elif dig < len(dlist)/2:\n",
    "            gamma.append(0)\n",
    "            epsilon.append(1)\n",
    "        else: \n",
    "            print(\"error.\")\n",
    "    gno = 0\n",
    "    eno = 0\n",
    "    for n in range(dlen):\n",
    "        gno += 2**(dlen-n-1)*gamma[n]\n",
    "        eno += 2**(dlen-n-1)*epsilon[n]\n",
    "    return gno*eno, gamma, epsilon\n",
    "power_cons(test_data)    "
   ]
  },
  {
   "cell_type": "code",
   "execution_count": 52,
   "id": "151929c0-b565-45c2-94d5-4162e2625ae6",
   "metadata": {},
   "outputs": [],
   "source": [
    "with open(\"03dec-data.txt\") as f:\n",
    "    data = [list(map(int,list(line.strip()))) for line in f.readlines()]"
   ]
  },
  {
   "cell_type": "code",
   "execution_count": 61,
   "id": "add01261-f80a-4d69-926c-94c3c06cfed5",
   "metadata": {},
   "outputs": [
    {
     "data": {
      "text/plain": [
       "(3277364,\n",
       " [1, 0, 1, 1, 1, 0, 1, 1, 1, 1, 0, 0],\n",
       " [0, 1, 0, 0, 0, 1, 0, 0, 0, 0, 1, 1])"
      ]
     },
     "execution_count": 61,
     "metadata": {},
     "output_type": "execute_result"
    }
   ],
   "source": [
    "power_cons(data)"
   ]
  },
  {
   "cell_type": "code",
   "execution_count": 85,
   "id": "290170f2-24ca-4f5b-85b0-f5a49c03d571",
   "metadata": {},
   "outputs": [
    {
     "data": {
      "text/plain": [
       "(230, [[1, 0, 1, 1, 1]], [[0, 1, 0, 1, 0]])"
      ]
     },
     "execution_count": 85,
     "metadata": {},
     "output_type": "execute_result"
    }
   ],
   "source": [
    "def life_support(dlist):\n",
    "    dlen = len(dlist[0])\n",
    "    oglist = dlist\n",
    "    nog = 0\n",
    "    while len(oglist)>1:\n",
    "        oglist = [t for t in oglist if t[nog] == power_cons(oglist)[1][nog]]\n",
    "#        print(oglist)\n",
    "        nog += 1\n",
    "    cslist = dlist\n",
    "    ncs = 0\n",
    "    while len(cslist)>1:\n",
    "        cslist = [t for t in cslist if t[ncs] == power_cons(cslist)[2][ncs]]\n",
    "#        print(cslist)\n",
    "        ncs += 1\n",
    "    ogno = 0\n",
    "    csno = 0\n",
    "    for n in range(dlen):\n",
    "        ogno += 2**(dlen-n-1)*oglist[0][n]\n",
    "        csno += 2**(dlen-n-1)*cslist[0][n]\n",
    "    return ogno*csno, oglist, cslist\n",
    "life_support(test_data)"
   ]
  },
  {
   "cell_type": "code",
   "execution_count": null,
   "id": "a186fd67-f31e-4840-89fa-99c125be3602",
   "metadata": {},
   "outputs": [],
   "source": [
    "life_support(data)"
   ]
  },
  {
   "cell_type": "code",
   "execution_count": null,
   "id": "9f29a4c3-7de0-40eb-bff3-edef4a475d2a",
   "metadata": {},
   "outputs": [],
   "source": []
  }
 ],
 "metadata": {
  "kernelspec": {
   "display_name": "Python 3 (ipykernel)",
   "language": "python",
   "name": "python3"
  },
  "language_info": {
   "codemirror_mode": {
    "name": "ipython",
    "version": 3
   },
   "file_extension": ".py",
   "mimetype": "text/x-python",
   "name": "python",
   "nbconvert_exporter": "python",
   "pygments_lexer": "ipython3",
   "version": "3.9.8"
  }
 },
 "nbformat": 4,
 "nbformat_minor": 5
}
