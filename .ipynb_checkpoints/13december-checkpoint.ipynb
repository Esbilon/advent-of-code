{
 "cells": [
  {
   "cell_type": "code",
   "execution_count": 1,
   "id": "c5e749d5-2631-4bcf-87c6-dac554e56283",
   "metadata": {},
   "outputs": [],
   "source": [
    "## Advent of Code 2021 - December 13"
   ]
  },
  {
   "cell_type": "code",
   "execution_count": 8,
   "id": "3cc0ccf2-ee77-47b1-a5ce-bb33d62c110a",
   "metadata": {},
   "outputs": [],
   "source": [
    "import numpy as np"
   ]
  },
  {
   "cell_type": "code",
   "execution_count": 186,
   "id": "04d509b3-df38-459a-b60d-df2d0cc8f41c",
   "metadata": {},
   "outputs": [
    {
     "data": {
      "text/plain": [
       "[['fold along y', '7'], ['fold along x', '5']]"
      ]
     },
     "execution_count": 186,
     "metadata": {},
     "output_type": "execute_result"
    }
   ],
   "source": [
    "with open(\"13dec-test.txt\") as f:\n",
    "    test_input = [line.strip() for line in f.readlines()]\n",
    "    test_data = np.array([[int(char) for char in line.split(\",\")] for line in test_input[:test_input.index(\"\")]])\n",
    "    test_folds = [line.split(\"=\") for line in test_input[test_input.index(\"\")+1:]]\n",
    "test_data\n",
    "test_folds"
   ]
  },
  {
   "cell_type": "code",
   "execution_count": 187,
   "id": "6dd736e9-5dcc-461d-8d84-fb3c2efa9aae",
   "metadata": {},
   "outputs": [
    {
     "data": {
      "text/plain": [
       "17"
      ]
     },
     "execution_count": 187,
     "metadata": {},
     "output_type": "execute_result"
    }
   ],
   "source": [
    "def fold_once(data,folds):\n",
    "    xmax = max(data[:,0])+1\n",
    "    ymax = max(data[:,1])+1\n",
    "    grid = np.zeros((xmax,ymax))\n",
    "    for coords in data:\n",
    "        grid[tuple(coords)] = 1\n",
    "    grid = grid.transpose()\n",
    "    for fold in folds[:1]:\n",
    "        flip_idx = int(fold[1])\n",
    "        if fold[0]==\"fold along y\":\n",
    "            flip_ax = 0\n",
    "            grid1 = grid[:flip_idx,:] \n",
    "            grid2 = grid[flip_idx+1:,:]\n",
    "            while np.shape(grid1)[flip_ax]>np.shape(grid2)[flip_ax]:\n",
    "                grid2 = np.r_[grid2, [np.zeros(np.shape(grid2)[1])]]\n",
    "            grid = grid1 + np.flip(grid2,axis=flip_ax)\n",
    "        elif fold[0]==\"fold along x\":\n",
    "            flip_ax = 1\n",
    "            grid1 = grid[:,:flip_idx] \n",
    "            grid2 = grid[:,flip_idx+1:]\n",
    "            while np.shape(grid1)[flip_ax]>np.shape(grid2)[flip_ax]:\n",
    "                grid2 = np.c_[grid2, np.zeros(np.shape(grid2)[0])]\n",
    "            grid = grid1 + np.flip(grid2,axis=flip_ax)\n",
    "    return np.count_nonzero(grid>0)\n",
    "fold_once(test_data,test_folds)"
   ]
  },
  {
   "cell_type": "code",
   "execution_count": 194,
   "id": "7cb49599-3ce7-4521-8889-3fd28deff82e",
   "metadata": {},
   "outputs": [],
   "source": [
    "with open(\"13dec-data.txt\") as f:\n",
    "    my_input = [line.strip() for line in f.readlines()]\n",
    "    my_data = np.array([[int(char) for char in line.split(\",\")] for line in my_input[:my_input.index(\"\")]])\n",
    "    my_folds = [line.split(\"=\") for line in my_input[my_input.index(\"\")+1:]]"
   ]
  },
  {
   "cell_type": "code",
   "execution_count": 195,
   "id": "45f7af82-27f8-47fa-b9dd-cafc0d3ed3d6",
   "metadata": {},
   "outputs": [
    {
     "data": {
      "text/plain": [
       "687"
      ]
     },
     "execution_count": 195,
     "metadata": {},
     "output_type": "execute_result"
    }
   ],
   "source": [
    "fold_once(my_data,my_folds)"
   ]
  },
  {
   "cell_type": "code",
   "execution_count": 197,
   "id": "6154ec17-68dc-49d7-9ecd-5407fa5ef526",
   "metadata": {},
   "outputs": [
    {
     "data": {
      "text/plain": [
       "array([['#', '#', '#', '#', '#'],\n",
       "       ['#', ' ', ' ', ' ', '#'],\n",
       "       ['#', ' ', ' ', ' ', '#'],\n",
       "       ['#', ' ', ' ', ' ', '#'],\n",
       "       ['#', '#', '#', '#', '#'],\n",
       "       [' ', ' ', ' ', ' ', ' '],\n",
       "       [' ', ' ', ' ', ' ', ' ']], dtype='<U1')"
      ]
     },
     "execution_count": 197,
     "metadata": {},
     "output_type": "execute_result"
    }
   ],
   "source": [
    "def fold_multi(data,folds):\n",
    "    xmax = max(data[:,0])+1\n",
    "    ymax = max(data[:,1])+1\n",
    "    grid = np.zeros((xmax,ymax))\n",
    "    for coords in data:\n",
    "        grid[tuple(coords)] = 1\n",
    "    grid = grid.transpose()\n",
    "    for fold in folds:\n",
    "        #print(np.shape(grid))\n",
    "        flip_idx = int(fold[1])\n",
    "        if fold[0]==\"fold along y\":\n",
    "            flip_ax = 0\n",
    "            grid1 = grid[:flip_idx,:].copy()\n",
    "            grid2 = grid[flip_idx+1:,:].copy()\n",
    "            while np.shape(grid1)[flip_ax]>np.shape(grid2)[flip_ax]:\n",
    "                grid2 = np.r_[grid2, [np.zeros(np.shape(grid2)[1])]]\n",
    "                #print(\"row added\")\n",
    "            grid = grid1 + np.flip(grid2,axis=flip_ax)\n",
    "        elif fold[0]==\"fold along x\":\n",
    "            flip_ax = 1\n",
    "            grid1 = grid[:,:flip_idx].copy()\n",
    "            grid2 = grid[:,flip_idx+1:].copy()\n",
    "            while np.shape(grid1)[flip_ax]>np.shape(grid2)[flip_ax]:\n",
    "                grid2 = np.c_[grid2, np.zeros(np.shape(grid2)[0])]\n",
    "                #print(\"column added\")\n",
    "            grid = grid1 + np.flip(grid2,axis=flip_ax)\n",
    "    #grid[grid>0]=1\n",
    "    chargrid = np.empty(np.shape(grid),dtype=str)\n",
    "    chargrid[grid>0] = \"#\"\n",
    "    chargrid[grid==0] = \" \"\n",
    "    return chargrid\n",
    "fold_multi(test_data,test_folds)"
   ]
  },
  {
   "cell_type": "code",
   "execution_count": 199,
   "id": "92bc8883-bf20-4904-8368-ec74824203a3",
   "metadata": {},
   "outputs": [
    {
     "name": "stdout",
     "output_type": "stream",
     "text": [
      "[['#' '#' '#' '#' ' ']\n",
      " ['#' ' ' ' ' ' ' ' ']\n",
      " ['#' '#' '#' ' ' ' ']\n",
      " ['#' ' ' ' ' ' ' ' ']\n",
      " ['#' ' ' ' ' ' ' ' ']\n",
      " ['#' ' ' ' ' ' ' ' ']] \n",
      "\n",
      "[[' ' '#' '#' ' ' ' ']\n",
      " ['#' ' ' ' ' '#' ' ']\n",
      " ['#' ' ' ' ' ' ' ' ']\n",
      " ['#' ' ' '#' '#' ' ']\n",
      " ['#' ' ' ' ' '#' ' ']\n",
      " [' ' '#' '#' '#' ' ']] \n",
      "\n",
      "[['#' ' ' ' ' '#' ' ']\n",
      " ['#' ' ' '#' ' ' ' ']\n",
      " ['#' '#' ' ' ' ' ' ']\n",
      " ['#' ' ' '#' ' ' ' ']\n",
      " ['#' ' ' '#' ' ' ' ']\n",
      " ['#' ' ' ' ' '#' ' ']] \n",
      "\n",
      "[[' ' '#' '#' ' ' ' ']\n",
      " ['#' ' ' ' ' '#' ' ']\n",
      " ['#' ' ' ' ' ' ' ' ']\n",
      " ['#' ' ' ' ' ' ' ' ']\n",
      " ['#' ' ' ' ' '#' ' ']\n",
      " [' ' '#' '#' ' ' ' ']] \n",
      "\n",
      "[['#' ' ' ' ' '#' ' ']\n",
      " ['#' ' ' '#' ' ' ' ']\n",
      " ['#' '#' ' ' ' ' ' ']\n",
      " ['#' ' ' '#' ' ' ' ']\n",
      " ['#' ' ' '#' ' ' ' ']\n",
      " ['#' ' ' ' ' '#' ' ']] \n",
      "\n",
      "[['#' '#' '#' ' ' ' ']\n",
      " ['#' ' ' ' ' '#' ' ']\n",
      " ['#' '#' '#' ' ' ' ']\n",
      " ['#' ' ' ' ' '#' ' ']\n",
      " ['#' ' ' ' ' '#' ' ']\n",
      " ['#' '#' '#' ' ' ' ']] \n",
      "\n",
      "[['#' '#' '#' '#' ' ']\n",
      " [' ' ' ' ' ' '#' ' ']\n",
      " [' ' ' ' '#' ' ' ' ']\n",
      " [' ' '#' ' ' ' ' ' ']\n",
      " ['#' ' ' ' ' ' ' ' ']\n",
      " ['#' '#' '#' '#' ' ']] \n",
      "\n",
      "[[' ' '#' '#' ' ' ' ']\n",
      " ['#' ' ' ' ' '#' ' ']\n",
      " ['#' ' ' ' ' ' ' ' ']\n",
      " ['#' ' ' '#' '#' ' ']\n",
      " ['#' ' ' ' ' '#' ' ']\n",
      " [' ' '#' '#' '#' ' ']] \n",
      "\n"
     ]
    }
   ],
   "source": [
    "answer = fold_multi(my_data,my_folds)\n",
    "for n in range(8):\n",
    "    print(answer[:,n*5:(n+1)*5],\"\\n\")"
   ]
  },
  {
   "cell_type": "code",
   "execution_count": 183,
   "id": "20fb720e-3b45-48d3-a95f-39b0e95408ba",
   "metadata": {},
   "outputs": [
    {
     "data": {
      "text/plain": [
       "'FGKCKBZG'"
      ]
     },
     "execution_count": 183,
     "metadata": {},
     "output_type": "execute_result"
    }
   ],
   "source": [
    "\"FGKCKBZG\""
   ]
  },
  {
   "cell_type": "code",
   "execution_count": null,
   "id": "511805a5-49db-4c9c-a555-d5dc45551fe8",
   "metadata": {},
   "outputs": [],
   "source": []
  }
 ],
 "metadata": {
  "kernelspec": {
   "display_name": "Python 3 (ipykernel)",
   "language": "python",
   "name": "python3"
  },
  "language_info": {
   "codemirror_mode": {
    "name": "ipython",
    "version": 3
   },
   "file_extension": ".py",
   "mimetype": "text/x-python",
   "name": "python",
   "nbconvert_exporter": "python",
   "pygments_lexer": "ipython3",
   "version": "3.9.7"
  }
 },
 "nbformat": 4,
 "nbformat_minor": 5
}
