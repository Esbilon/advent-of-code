{
 "cells": [
  {
   "cell_type": "code",
   "execution_count": 1,
   "id": "03c40a2b-49cc-4604-852d-03f076c5aaf1",
   "metadata": {},
   "outputs": [],
   "source": [
    "## Advent of Code 2021 - December 9"
   ]
  },
  {
   "cell_type": "code",
   "execution_count": 60,
   "id": "4aefce57-a971-49b7-b045-1eb73fdedd8e",
   "metadata": {},
   "outputs": [],
   "source": [
    "import numpy as np"
   ]
  },
  {
   "cell_type": "code",
   "execution_count": 3,
   "id": "fdf49890-909f-4a80-bf56-f630f86e002f",
   "metadata": {},
   "outputs": [
    {
     "data": {
      "text/plain": [
       "[[2, 1, 9, 9, 9, 4, 3, 2, 1, 0],\n",
       " [3, 9, 8, 7, 8, 9, 4, 9, 2, 1],\n",
       " [9, 8, 5, 6, 7, 8, 9, 8, 9, 2],\n",
       " [8, 7, 6, 7, 8, 9, 6, 7, 8, 9],\n",
       " [9, 8, 9, 9, 9, 6, 5, 6, 7, 8]]"
      ]
     },
     "execution_count": 3,
     "metadata": {},
     "output_type": "execute_result"
    }
   ],
   "source": [
    "with open(\"09dec-test.txt\") as f:\n",
    "    test_data = [line.strip() for line in f.readlines()]\n",
    "    test_data = [[int(char) for char in line] for line in test_data]\n",
    "test_data"
   ]
  },
  {
   "cell_type": "code",
   "execution_count": 25,
   "id": "7edee48f-d058-4e05-81cb-8e62d4b3715d",
   "metadata": {},
   "outputs": [
    {
     "data": {
      "text/plain": [
       "([[0, 1], [0, 9], [2, 2], [4, 6]], 15)"
      ]
     },
     "execution_count": 25,
     "metadata": {},
     "output_type": "execute_result"
    }
   ],
   "source": [
    "def low_point_sum(data):\n",
    "    height = len(data)\n",
    "    width = len(data[0])\n",
    "    lpl = []\n",
    "    for i in range(height):\n",
    "        for j in range(width):\n",
    "            compset=[]\n",
    "            if j!=width-1:\n",
    "                compset.append(data[i][j+1])\n",
    "            if j!=0:\n",
    "                compset.append(data[i][j-1])\n",
    "            if i!=height-1:\n",
    "                compset.append(data[i+1][j])\n",
    "            if i!=0:\n",
    "                compset.append(data[i-1][j])\n",
    "            if data[i][j]<min(compset):\n",
    "                lpl.append([i,j])\n",
    "    return lpl,sum([data[p[0]][p[1]]+1 for p in lpl])\n",
    "low_point_sum(test_data)"
   ]
  },
  {
   "cell_type": "code",
   "execution_count": 19,
   "id": "c8bbdbf5-ef16-49bb-98f2-6170085cbb4c",
   "metadata": {},
   "outputs": [],
   "source": [
    "with open(\"09dec-data.txt\") as f:\n",
    "    data = [line.strip() for line in f.readlines()]\n",
    "    data = [[int(char) for char in line] for line in data]"
   ]
  },
  {
   "cell_type": "code",
   "execution_count": 26,
   "id": "49d60923-3b3a-4686-b5e9-70a69204cd8e",
   "metadata": {},
   "outputs": [
    {
     "data": {
      "text/plain": [
       "423"
      ]
     },
     "execution_count": 26,
     "metadata": {},
     "output_type": "execute_result"
    }
   ],
   "source": [
    "low_point_sum(data)[1]"
   ]
  },
  {
   "cell_type": "code",
   "execution_count": 63,
   "id": "fd25355c-0035-41d9-aab4-2c2dd61727d6",
   "metadata": {
    "tags": []
   },
   "outputs": [
    {
     "data": {
      "text/plain": [
       "1134"
      ]
     },
     "execution_count": 63,
     "metadata": {},
     "output_type": "execute_result"
    }
   ],
   "source": [
    "def basin_finder(data):\n",
    "    height = len(data)\n",
    "    width = len(data[0])\n",
    "    lpl = low_point_sum(data)[0]\n",
    "    basin_dict = {}\n",
    "    for n, p in enumerate(lpl):\n",
    "        basin_dict[n] = [p]\n",
    "        checked = [p]\n",
    "        to_check = []\n",
    "        if p[1]!=width-1:\n",
    "            to_check.append([p[0],p[1]+1])\n",
    "        if p[1]!=0:\n",
    "            to_check.append([p[0],p[1]-1])\n",
    "        if p[0]!=height-1:\n",
    "            to_check.append([p[0]+1,p[1]])\n",
    "        if p[0]!=0:\n",
    "            to_check.append([p[0]-1,p[1]])\n",
    "        while (len(to_check)>0):\n",
    "            i = to_check[0][0]\n",
    "            j = to_check[0][1]\n",
    "            if [i,j] in checked:\n",
    "                to_check.pop(0)\n",
    "                continue\n",
    "            if 9>data[i][j]>data[p[0]][p[1]]:\n",
    "                basin_dict[n].append([i,j])\n",
    "            checked.append([i,j])\n",
    "            if 9>data[i][j]:\n",
    "                if j!=width-1 and (not [i,j+1] in checked):\n",
    "                    to_check.append([i,j+1])\n",
    "                if j!=0 and (not [i,j-1] in checked):\n",
    "                    to_check.append([i,j-1])\n",
    "                if i!=height-1 and (not [i+1,j] in checked):\n",
    "                    to_check.append([i+1,j])\n",
    "                if i!=0 and (not [i-1,j] in checked):\n",
    "                    to_check.append([i-1,j])\n",
    "            to_check.pop(0)\n",
    "    return np.prod(sorted([len(basin_dict[key]) for key in basin_dict.keys()])[-3:])\n",
    "basin_finder(test_data)"
   ]
  },
  {
   "cell_type": "code",
   "execution_count": 62,
   "id": "51df759b-3555-46d8-b6c0-1020d7a6779b",
   "metadata": {},
   "outputs": [
    {
     "data": {
      "text/plain": [
       "1198704"
      ]
     },
     "execution_count": 62,
     "metadata": {},
     "output_type": "execute_result"
    }
   ],
   "source": [
    "basin_finder(data)"
   ]
  },
  {
   "cell_type": "code",
   "execution_count": null,
   "id": "1b88f47a-0314-457f-845d-0d152fed6657",
   "metadata": {},
   "outputs": [],
   "source": []
  }
 ],
 "metadata": {
  "kernelspec": {
   "display_name": "Python 3 (ipykernel)",
   "language": "python",
   "name": "python3"
  },
  "language_info": {
   "codemirror_mode": {
    "name": "ipython",
    "version": 3
   },
   "file_extension": ".py",
   "mimetype": "text/x-python",
   "name": "python",
   "nbconvert_exporter": "python",
   "pygments_lexer": "ipython3",
   "version": "3.9.8"
  }
 },
 "nbformat": 4,
 "nbformat_minor": 5
}
