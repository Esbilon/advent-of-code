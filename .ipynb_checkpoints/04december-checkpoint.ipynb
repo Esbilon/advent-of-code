{
 "cells": [
  {
   "cell_type": "code",
   "execution_count": 1,
   "id": "bab70270-b4f1-4f77-bb9f-591ed2058eb7",
   "metadata": {},
   "outputs": [],
   "source": [
    "## Advent of Code 2021 - December 4"
   ]
  },
  {
   "cell_type": "code",
   "execution_count": 2,
   "id": "eced0fea-79a9-4b0f-89f9-f78b2b58445d",
   "metadata": {},
   "outputs": [],
   "source": [
    "import numpy as np"
   ]
  },
  {
   "cell_type": "code",
   "execution_count": 3,
   "id": "dc648789-7947-4ac4-b766-b1befe131073",
   "metadata": {},
   "outputs": [],
   "source": [
    "with open(\"04dec-test.txt\") as f:\n",
    "    test_data = [line.strip() for line in f.readlines()]\n",
    "test_nos = list(map(int,test_data[0].split(\",\")))\n",
    "test_boards = []\n",
    "board =  []\n",
    "for line in test_data[2:]:\n",
    "    if line == \"\":\n",
    "        test_boards.append(board)\n",
    "        board =  []\n",
    "    else:\n",
    "        board.append(list(map(int,line.split())))\n",
    "test_boards.append(board)\n",
    "test_boards=np.array(test_boards)"
   ]
  },
  {
   "cell_type": "code",
   "execution_count": 4,
   "id": "a6dbed32-8361-40dd-903d-eebe9df519eb",
   "metadata": {},
   "outputs": [],
   "source": [
    "def make_games(board_list):\n",
    "    dict_list = []\n",
    "    sol_list = []\n",
    "    for board in board_list:\n",
    "        board_dict = {}\n",
    "        for i, row in enumerate(board):\n",
    "            for j, no in enumerate(row):\n",
    "                board_dict[no] = [i,j]\n",
    "        dict_list.append(board_dict)\n",
    "        sol_list.append([[0]*5 for i in range(5)])\n",
    "    return dict_list, np.array(sol_list)"
   ]
  },
  {
   "cell_type": "code",
   "execution_count": 5,
   "id": "8591808b-5985-4ffe-985d-d3b0d51fb8b6",
   "metadata": {},
   "outputs": [],
   "source": [
    "def check_sol(sol_board,coord):\n",
    "    if sum(sol_board[coord[0]])==len(sol_board[coord[0]]):\n",
    "        return True\n",
    "    elif sum(sol_board[:,coord[1]])==len(sol_board[:,coord[1]]):\n",
    "        return True\n",
    "    else:\n",
    "        return False"
   ]
  },
  {
   "cell_type": "code",
   "execution_count": 6,
   "id": "a2cc3a03-cf67-4863-875d-818a30b5926c",
   "metadata": {},
   "outputs": [
    {
     "name": "stdout",
     "output_type": "stream",
     "text": [
      "Number 24. Board 2 wins with 4512 points.\n"
     ]
    },
    {
     "data": {
      "text/plain": [
       "4512"
      ]
     },
     "execution_count": 6,
     "metadata": {},
     "output_type": "execute_result"
    }
   ],
   "source": [
    "def play_bingo(nos, boards):\n",
    "    dicts, sols = make_games(boards)\n",
    "    for no in nos:\n",
    "        for k, ch_dict in enumerate(dicts):\n",
    "            if no in ch_dict.keys():\n",
    "                sols[k][tuple(ch_dict[no])] = 1\n",
    "                if check_sol(sols[k],ch_dict[no]):\n",
    "                    score = sum(boards[k][sols[k]==0])*no\n",
    "                    print(\"Number %d. Board %d wins with %d points.\" % (no,k,score))\n",
    "                    return score\n",
    "play_bingo(test_nos, test_boards)"
   ]
  },
  {
   "cell_type": "code",
   "execution_count": 7,
   "id": "46d09799-58e6-43f6-8721-a4e5773fc8d0",
   "metadata": {},
   "outputs": [],
   "source": [
    "with open(\"04dec-data.txt\") as f:\n",
    "    data = [line.strip() for line in f.readlines()]\n",
    "data_nos = list(map(int,data[0].split(\",\")))\n",
    "data_boards = []\n",
    "board =  []\n",
    "for line in data[2:]:\n",
    "    if line == \"\":\n",
    "        data_boards.append(board)\n",
    "        board =  []\n",
    "    else:\n",
    "        board.append(list(map(int,line.split())))\n",
    "data_boards.append(board)\n",
    "data_boards=np.array(data_boards)"
   ]
  },
  {
   "cell_type": "code",
   "execution_count": 8,
   "id": "135dfac0-fe27-4e7f-a007-66ab7f65a8c8",
   "metadata": {},
   "outputs": [
    {
     "name": "stdout",
     "output_type": "stream",
     "text": [
      "Number 46. Board 22 wins with 38594 points.\n"
     ]
    },
    {
     "data": {
      "text/plain": [
       "38594"
      ]
     },
     "execution_count": 8,
     "metadata": {},
     "output_type": "execute_result"
    }
   ],
   "source": [
    "play_bingo(data_nos, data_boards)"
   ]
  },
  {
   "cell_type": "code",
   "execution_count": 9,
   "id": "ec2758bb-0c9e-4c7f-84d0-bfb7faccebbc",
   "metadata": {},
   "outputs": [
    {
     "name": "stdout",
     "output_type": "stream",
     "text": [
      "Number 64. Board 43 wins last with 21184 points.\n"
     ]
    },
    {
     "data": {
      "text/plain": [
       "21184"
      ]
     },
     "execution_count": 9,
     "metadata": {},
     "output_type": "execute_result"
    }
   ],
   "source": [
    "def play_bad_bingo(nos, boards):\n",
    "    dicts, sols = make_games(boards)\n",
    "    winners = []\n",
    "    for no in nos:\n",
    "        for k, ch_dict in enumerate(dicts):\n",
    "            if k not in winners:\n",
    "                if no in ch_dict.keys():\n",
    "                    sols[k][tuple(ch_dict[no])] = 1\n",
    "                    if check_sol(sols[k],ch_dict[no]):\n",
    "                        winners += [k]\n",
    "                        if len(winners) == len(dicts) or no == nos[-1]:\n",
    "                            score = sum(boards[k][sols[k]==0])*no\n",
    "                            print(\"Number %d. Board %d wins last with %d points.\" % (no,k,score))\n",
    "                            return score\n",
    "play_bad_bingo(data_nos, data_boards)"
   ]
  },
  {
   "cell_type": "code",
   "execution_count": null,
   "id": "33c623de-5118-4727-8876-87472df2a729",
   "metadata": {},
   "outputs": [],
   "source": []
  }
 ],
 "metadata": {
  "kernelspec": {
   "display_name": "Python 3 (ipykernel)",
   "language": "python",
   "name": "python3"
  },
  "language_info": {
   "codemirror_mode": {
    "name": "ipython",
    "version": 3
   },
   "file_extension": ".py",
   "mimetype": "text/x-python",
   "name": "python",
   "nbconvert_exporter": "python",
   "pygments_lexer": "ipython3",
   "version": "3.9.7"
  }
 },
 "nbformat": 4,
 "nbformat_minor": 5
}
