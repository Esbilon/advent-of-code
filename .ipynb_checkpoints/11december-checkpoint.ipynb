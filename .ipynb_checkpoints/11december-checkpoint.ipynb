{
 "cells": [
  {
   "cell_type": "code",
   "execution_count": 1,
   "id": "77da58f5-a5ea-4ed2-92d4-d28878684ad8",
   "metadata": {},
   "outputs": [],
   "source": [
    "## Advent of Code 2021 - December 11"
   ]
  },
  {
   "cell_type": "code",
   "execution_count": 4,
   "id": "55da9433-28e2-486f-9d15-3c25ee1f0866",
   "metadata": {},
   "outputs": [],
   "source": [
    "import numpy as np"
   ]
  },
  {
   "cell_type": "code",
   "execution_count": 18,
   "id": "1a287704-00ec-4bf5-b7a1-1b1ca89ce73f",
   "metadata": {},
   "outputs": [
    {
     "data": {
      "text/plain": [
       "array([[5, 4, 8, 3, 1, 4, 3, 2, 2, 3],\n",
       "       [2, 7, 4, 5, 8, 5, 4, 7, 1, 1],\n",
       "       [5, 2, 6, 4, 5, 5, 6, 1, 7, 3],\n",
       "       [6, 1, 4, 1, 3, 3, 6, 1, 4, 6],\n",
       "       [6, 3, 5, 7, 3, 8, 5, 4, 7, 8],\n",
       "       [4, 1, 6, 7, 5, 2, 4, 6, 4, 5],\n",
       "       [2, 1, 7, 6, 8, 4, 1, 7, 2, 1],\n",
       "       [6, 8, 8, 2, 8, 8, 1, 1, 3, 4],\n",
       "       [4, 8, 4, 6, 8, 4, 8, 5, 5, 4],\n",
       "       [5, 2, 8, 3, 7, 5, 1, 5, 2, 6]])"
      ]
     },
     "execution_count": 18,
     "metadata": {},
     "output_type": "execute_result"
    }
   ],
   "source": [
    "with open(\"11dec-test.txt\") as f:\n",
    "    test_data = [line.strip() for line in f.readlines()]\n",
    "    test_data = [[int(char) for char in line] for line in test_data]\n",
    "    test_data = np.array(test_data)\n",
    "test_data"
   ]
  },
  {
   "cell_type": "code",
   "execution_count": 33,
   "id": "bdb02177-6bd2-491e-ae34-5d8126f92fd7",
   "metadata": {},
   "outputs": [
    {
     "data": {
      "text/plain": [
       "[(8, 7), (8, 8), (8, 9), (9, 7), (9, 9)]"
      ]
     },
     "execution_count": 33,
     "metadata": {},
     "output_type": "execute_result"
    }
   ],
   "source": [
    "def find_neighbors_diag(idx,shape):\n",
    "    neighbors = []\n",
    "    for i in range(idx[0]-1,idx[0]+2):\n",
    "        for j in range(idx[1]-1,idx[1]+2):\n",
    "            if -1 not in [i,j] and i<shape[0] and j<shape[1] and [i,j] != idx:\n",
    "                neighbors.append((i,j))\n",
    "    return neighbors\n",
    "find_neighbors_diag([9,8],np.shape(test_data))"
   ]
  },
  {
   "cell_type": "code",
   "execution_count": 65,
   "id": "645569f7-b5fe-4ae5-95a8-4fb119f631bd",
   "metadata": {},
   "outputs": [
    {
     "data": {
      "text/plain": [
       "(195,\n",
       " 3125,\n",
       " array([[5., 5., 5., 5., 5., 5., 5., 5., 5., 5.],\n",
       "        [5., 5., 5., 5., 5., 5., 5., 5., 5., 5.],\n",
       "        [5., 5., 5., 5., 5., 5., 5., 5., 5., 5.],\n",
       "        [5., 5., 5., 5., 5., 5., 5., 5., 5., 5.],\n",
       "        [5., 5., 5., 5., 5., 5., 5., 5., 5., 5.],\n",
       "        [5., 5., 5., 5., 5., 5., 5., 5., 5., 5.],\n",
       "        [5., 5., 5., 5., 5., 5., 5., 5., 5., 5.],\n",
       "        [5., 5., 5., 5., 5., 5., 5., 5., 5., 5.],\n",
       "        [5., 5., 5., 5., 5., 5., 5., 5., 5., 5.],\n",
       "        [5., 5., 5., 5., 5., 5., 5., 5., 5., 5.]]))"
      ]
     },
     "execution_count": 65,
     "metadata": {},
     "output_type": "execute_result"
    }
   ],
   "source": [
    "def flashes(oct_array,steps):\n",
    "    new_array = oct_array.copy()\n",
    "    no_flashes = 0\n",
    "    sync = 0\n",
    "    for n in range(steps):\n",
    "        new_array = new_array + np.ones(np.shape(oct_array))\n",
    "        flashed = np.zeros(np.shape(oct_array))\n",
    "        new = True\n",
    "        while new:\n",
    "            new = False\n",
    "            for i in range(np.shape(oct_array)[0]):\n",
    "                for j in range(np.shape(oct_array)[1]):\n",
    "                    if new_array[i,j]>9 and flashed[i,j]==0:\n",
    "                        new = True\n",
    "                        flashed[i,j]=1\n",
    "                        for idx in find_neighbors_diag([i,j],np.shape(oct_array)):\n",
    "                            new_array[idx] += 1\n",
    "        for idx in np.transpose((flashed>0).nonzero()):\n",
    "            no_flashes += 1\n",
    "            new_array[tuple(idx)] = 0\n",
    "        if sync == 0 and len(np.transpose((flashed>0).nonzero())) == np.prod(flashed.shape):\n",
    "            sync = n+1\n",
    "    return sync, no_flashes, new_array\n",
    "flashes(test_data,200)"
   ]
  },
  {
   "cell_type": "code",
   "execution_count": 69,
   "id": "aa9b6fe5-d27c-4c4d-8fc3-d9bb4bebb656",
   "metadata": {},
   "outputs": [
    {
     "data": {
      "text/plain": [
       "(308,\n",
       " 5903,\n",
       " array([[2., 2., 2., 2., 2., 2., 2., 2., 2., 2.],\n",
       "        [2., 2., 2., 2., 2., 2., 2., 2., 2., 2.],\n",
       "        [2., 2., 2., 2., 2., 2., 2., 2., 2., 2.],\n",
       "        [2., 2., 2., 2., 2., 2., 2., 2., 2., 2.],\n",
       "        [2., 2., 2., 2., 2., 2., 2., 2., 2., 2.],\n",
       "        [2., 2., 2., 2., 2., 2., 2., 2., 2., 2.],\n",
       "        [2., 2., 2., 2., 2., 2., 2., 2., 2., 2.],\n",
       "        [2., 2., 2., 2., 2., 2., 2., 2., 2., 2.],\n",
       "        [2., 2., 2., 2., 2., 2., 2., 2., 2., 2.],\n",
       "        [2., 2., 2., 2., 2., 2., 2., 2., 2., 2.]]))"
      ]
     },
     "execution_count": 69,
     "metadata": {},
     "output_type": "execute_result"
    }
   ],
   "source": [
    "with open(\"11dec-data.txt\") as f:\n",
    "    data = [line.strip() for line in f.readlines()]\n",
    "    data = [[int(char) for char in line] for line in data]\n",
    "    data = np.array(data)\n",
    "flashes(data,400)"
   ]
  }
 ],
 "metadata": {
  "kernelspec": {
   "display_name": "Python 3 (ipykernel)",
   "language": "python",
   "name": "python3"
  },
  "language_info": {
   "codemirror_mode": {
    "name": "ipython",
    "version": 3
   },
   "file_extension": ".py",
   "mimetype": "text/x-python",
   "name": "python",
   "nbconvert_exporter": "python",
   "pygments_lexer": "ipython3",
   "version": "3.9.7"
  }
 },
 "nbformat": 4,
 "nbformat_minor": 5
}
