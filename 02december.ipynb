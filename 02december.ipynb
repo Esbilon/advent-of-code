{
 "cells": [
  {
   "cell_type": "code",
   "execution_count": 1,
   "id": "3a16e3f8-217e-4689-a646-0e41a980df53",
   "metadata": {},
   "outputs": [],
   "source": [
    "## Advent of Code 2021 - December 2"
   ]
  },
  {
   "cell_type": "code",
   "execution_count": 8,
   "id": "d364e8e0-51c5-43ef-9a61-7955fecab8b6",
   "metadata": {},
   "outputs": [],
   "source": [
    "import numpy as np"
   ]
  },
  {
   "cell_type": "code",
   "execution_count": 1,
   "id": "d571b944-b5ea-4693-a365-3e20bf78eb9a",
   "metadata": {},
   "outputs": [],
   "source": [
    "test_data = [\"forward 5\", \"down 5\", \"forward 8\", \"up 3\", \"down 8\", \"forward 2\"]"
   ]
  },
  {
   "cell_type": "code",
   "execution_count": 24,
   "id": "ae253677-9284-435d-ae5e-0b885500807d",
   "metadata": {},
   "outputs": [
    {
     "data": {
      "text/plain": [
       "150"
      ]
     },
     "execution_count": 24,
     "metadata": {},
     "output_type": "execute_result"
    }
   ],
   "source": [
    "def pos_change(list):\n",
    "    x = np.array([0,0])\n",
    "    for elem in list:\n",
    "        [head,dis] = elem.split()\n",
    "        if head == \"forward\":\n",
    "            x += [int(dis),0]\n",
    "        elif head == \"down\":\n",
    "            x += [0,int(dis)]\n",
    "        elif head == \"up\":\n",
    "            x += [0,-int(dis)]\n",
    "        prod = np.prod(x)\n",
    "    return prod\n",
    "pos_change(test_data)"
   ]
  },
  {
   "cell_type": "code",
   "execution_count": 16,
   "id": "7d0b81a7-a188-42f0-81fa-0adc16919f33",
   "metadata": {},
   "outputs": [],
   "source": [
    "with open(\"02dec-data.txt\") as f:\n",
    "    prob1_data = [line for line in f.readlines()]"
   ]
  },
  {
   "cell_type": "code",
   "execution_count": 19,
   "id": "d6698342-1805-4a7d-8001-abf7a71ca248",
   "metadata": {},
   "outputs": [
    {
     "data": {
      "text/plain": [
       "2039256"
      ]
     },
     "execution_count": 19,
     "metadata": {},
     "output_type": "execute_result"
    }
   ],
   "source": [
    "pos_change(prob1_data)"
   ]
  },
  {
   "cell_type": "code",
   "execution_count": 22,
   "id": "ac1150eb-bd26-4d2a-ae4e-3b77f2feee8c",
   "metadata": {},
   "outputs": [
    {
     "data": {
      "text/plain": [
       "900"
      ]
     },
     "execution_count": 22,
     "metadata": {},
     "output_type": "execute_result"
    }
   ],
   "source": [
    "def pos_change_aim(list):\n",
    "    x = np.array([0,0,0])\n",
    "    for elem in list:\n",
    "        [head,dis] = elem.split()\n",
    "        if head == \"forward\":\n",
    "            x += [int(dis),int(dis)*x[2],0]\n",
    "        elif head == \"down\":\n",
    "            x += [0,0,int(dis)]\n",
    "        elif head == \"up\":\n",
    "            x += [0,0,-int(dis)]\n",
    "#        print(x)\n",
    "    prod = np.prod(x[0:2])\n",
    "    return prod\n",
    "pos_change_aim(test_data)"
   ]
  },
  {
   "cell_type": "code",
   "execution_count": 23,
   "id": "f64f7301-661c-486b-86db-214c1d7ab7d2",
   "metadata": {},
   "outputs": [
    {
     "data": {
      "text/plain": [
       "1856459736"
      ]
     },
     "execution_count": 23,
     "metadata": {},
     "output_type": "execute_result"
    }
   ],
   "source": [
    "pos_change_aim(prob1_data)"
   ]
  },
  {
   "cell_type": "code",
   "execution_count": 25,
   "id": "130c24d8-e226-45d5-b214-91c265168835",
   "metadata": {},
   "outputs": [
    {
     "name": "stdout",
     "output_type": "stream",
     "text": [
      "[NbConvertApp] Converting notebook 02december.ipynb to script\n",
      "[NbConvertApp] Writing 1149 bytes to 02december.py\n"
     ]
    }
   ],
   "source": [
    "!jupyter nbconvert --to script 02december.ipynb"
   ]
  },
  {
   "cell_type": "code",
   "execution_count": null,
   "id": "26119115-5b6d-45d9-8185-31d741946948",
   "metadata": {},
   "outputs": [],
   "source": []
  }
 ],
 "metadata": {
  "kernelspec": {
   "display_name": "Python 3 (ipykernel)",
   "language": "python",
   "name": "python3"
  },
  "language_info": {
   "codemirror_mode": {
    "name": "ipython",
    "version": 3
   },
   "file_extension": ".py",
   "mimetype": "text/x-python",
   "name": "python",
   "nbconvert_exporter": "python",
   "pygments_lexer": "ipython3",
   "version": "3.9.8"
  }
 },
 "nbformat": 4,
 "nbformat_minor": 5
}
