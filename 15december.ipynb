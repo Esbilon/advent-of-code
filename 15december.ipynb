{
 "cells": [
  {
   "cell_type": "code",
   "execution_count": 1,
   "id": "1043bc33-021f-4d98-a524-461e08de8e4a",
   "metadata": {},
   "outputs": [],
   "source": [
    "## Advent of Code 2021 - December 15"
   ]
  },
  {
   "cell_type": "code",
   "execution_count": 121,
   "id": "510e0f42-91cf-4cdd-a5b3-85f9a84fdb86",
   "metadata": {},
   "outputs": [],
   "source": [
    "import numpy as np\n",
    "import time"
   ]
  },
  {
   "cell_type": "code",
   "execution_count": 7,
   "id": "ad427865-0436-4f21-ad63-fb7c93d8fc59",
   "metadata": {},
   "outputs": [
    {
     "data": {
      "text/plain": [
       "array([[1, 1, 6, 3, 7, 5, 1, 7, 4, 2],\n",
       "       [1, 3, 8, 1, 3, 7, 3, 6, 7, 2],\n",
       "       [2, 1, 3, 6, 5, 1, 1, 3, 2, 8],\n",
       "       [3, 6, 9, 4, 9, 3, 1, 5, 6, 9],\n",
       "       [7, 4, 6, 3, 4, 1, 7, 1, 1, 1],\n",
       "       [1, 3, 1, 9, 1, 2, 8, 1, 3, 7],\n",
       "       [1, 3, 5, 9, 9, 1, 2, 4, 2, 1],\n",
       "       [3, 1, 2, 5, 4, 2, 1, 6, 3, 9],\n",
       "       [1, 2, 9, 3, 1, 3, 8, 5, 2, 1],\n",
       "       [2, 3, 1, 1, 9, 4, 4, 5, 8, 1]])"
      ]
     },
     "execution_count": 7,
     "metadata": {},
     "output_type": "execute_result"
    }
   ],
   "source": [
    "with open(\"15dec-test.txt\") as f:\n",
    "    test_input = [line.strip() for line in f.readlines()]\n",
    "    test_data = np.array([[int(char) for char in line] for line in test_input])\n",
    "test_data"
   ]
  },
  {
   "cell_type": "code",
   "execution_count": 25,
   "id": "7c10fe73-ff2a-437b-a669-3943a8c834f8",
   "metadata": {},
   "outputs": [
    {
     "data": {
      "text/plain": [
       "[(7, 0), (9, 0), (8, 1)]"
      ]
     },
     "execution_count": 25,
     "metadata": {},
     "output_type": "execute_result"
    }
   ],
   "source": [
    "def neighbor_list(coords,grid):\n",
    "    neighbors = [tuple(map(sum,zip(coords,c))) for c in [(-1,0),(0,-1),(1,0),(0,1)]]\n",
    "    i = 0\n",
    "    while i<len(neighbors):\n",
    "        n = neighbors[i]\n",
    "        if n[0]<0 or n[0]>=len(grid) or n[1]<0 or n[1]>=len(grid[0]):\n",
    "            neighbors.pop(i)\n",
    "        else:\n",
    "            i += 1\n",
    "    return neighbors\n",
    "neighbor_list((8,0),test_data)"
   ]
  },
  {
   "cell_type": "code",
   "execution_count": 134,
   "id": "b9ee66bc-3a51-4fd8-bc02-3cf449152fa7",
   "metadata": {},
   "outputs": [
    {
     "data": {
      "text/plain": [
       "40"
      ]
     },
     "execution_count": 134,
     "metadata": {},
     "output_type": "execute_result"
    }
   ],
   "source": [
    "def short_path(grid):\n",
    "    start = (0,0)\n",
    "    end = (len(grid)-1,len(grid[0])-1)\n",
    "    visited = {}\n",
    "    unvisited = [[0,start]]\n",
    "    running = True\n",
    "    while running:\n",
    "        curr = unvisited.pop(0)\n",
    "        if curr[1] in visited:\n",
    "            continue\n",
    "        visited[curr[1]] = curr[0]\n",
    "        if curr[1] == end:\n",
    "            running = False\n",
    "            continue\n",
    "        for coords in neighbor_list(curr[1],grid):\n",
    "            if (coords not in visited):\n",
    "                unvisited.append([grid[coords]+curr[0],coords,curr])\n",
    "        unvisited = sorted(unvisited)\n",
    "    return visited[end]\n",
    "short_path(test_data)"
   ]
  },
  {
   "cell_type": "code",
   "execution_count": 85,
   "id": "eb903ab1-0079-47e8-88a5-04de7b26498f",
   "metadata": {},
   "outputs": [],
   "source": [
    "with open(\"15dec-data.txt\") as f:\n",
    "    my_input = [line.strip() for line in f.readlines()]\n",
    "    my_data = np.array([[int(char) for char in line] for line in my_input])"
   ]
  },
  {
   "cell_type": "code",
   "execution_count": 155,
   "id": "88572209-02df-4e9c-ac1b-3c693ed04706",
   "metadata": {},
   "outputs": [
    {
     "data": {
      "text/plain": [
       "40"
      ]
     },
     "execution_count": 155,
     "metadata": {},
     "output_type": "execute_result"
    }
   ],
   "source": [
    "def short_path_dict(grid):\n",
    "    start = (0,0)\n",
    "    end = (len(grid)-1,len(grid[0])-1)\n",
    "    visited = {}\n",
    "    unvisited = {start:0}\n",
    "    running = True\n",
    "    while running:\n",
    "        curr = min(unvisited, key=unvisited.get)\n",
    "        curr = [unvisited.pop(curr),curr]\n",
    "        if curr[1] in visited:\n",
    "            continue\n",
    "        visited[curr[1]] = curr[0]\n",
    "        if curr[1] == end:\n",
    "            running = False\n",
    "            continue\n",
    "        for coords in neighbor_list(curr[1],grid):\n",
    "            if (coords not in visited) and (unvisited.setdefault(coords,np.inf) > (grid[coords]+curr[0])):\n",
    "                unvisited[coords]=grid[coords]+curr[0]\n",
    "    return visited[end]\n",
    "short_path_dict(test_data)"
   ]
  },
  {
   "cell_type": "code",
   "execution_count": 159,
   "id": "fc8d1236-99d3-4c49-ac27-872601b12734",
   "metadata": {
    "tags": []
   },
   "outputs": [
    {
     "name": "stdout",
     "output_type": "stream",
     "text": [
      "0.2443540096282959 373\n"
     ]
    }
   ],
   "source": [
    "then = time.time()\n",
    "res = short_path_dict(my_data)\n",
    "now = time.time()\n",
    "print(now-then,res)"
   ]
  },
  {
   "cell_type": "code",
   "execution_count": 185,
   "id": "35282b3c-f511-4af7-a933-ddd17601d5a9",
   "metadata": {},
   "outputs": [
    {
     "data": {
      "text/plain": [
       "array([[1, 1, 6, ..., 2, 8, 6],\n",
       "       [1, 3, 8, ..., 1, 2, 6],\n",
       "       [2, 1, 3, ..., 7, 6, 3],\n",
       "       ...,\n",
       "       [7, 5, 6, ..., 5, 2, 8],\n",
       "       [5, 6, 4, ..., 4, 1, 9],\n",
       "       [6, 7, 5, ..., 4, 7, 9]])"
      ]
     },
     "execution_count": 185,
     "metadata": {},
     "output_type": "execute_result"
    }
   ],
   "source": [
    "def embiggen(grid):\n",
    "    big_grid = np.empty((5,5),dtype=np.ndarray)\n",
    "    bigger_grid = np.empty(5,dtype=np.ndarray)\n",
    "    for i in range(5):\n",
    "        for j in range(5):\n",
    "            big_grid[i,j] = grid + i + j\n",
    "            big_grid[i,j][big_grid[i,j]>9] = big_grid[i,j][big_grid[i,j]>9]-9\n",
    "    for i in range(5):\n",
    "        bigger_grid[i] = np.concatenate(big_grid[i,:],axis=1)\n",
    "    end_grid = np.concatenate(bigger_grid[:],axis=0)\n",
    "    return end_grid\n",
    "embiggen(test_data)"
   ]
  },
  {
   "cell_type": "code",
   "execution_count": 186,
   "id": "123fb3d1-64dd-4400-b208-f5eb65bafabb",
   "metadata": {},
   "outputs": [
    {
     "name": "stdout",
     "output_type": "stream",
     "text": [
      "28.022656202316284 2868\n"
     ]
    }
   ],
   "source": [
    "then = time.time()\n",
    "res = short_path_dict(embiggen(my_data))\n",
    "now = time.time()\n",
    "print(now-then,res)"
   ]
  },
  {
   "cell_type": "code",
   "execution_count": null,
   "id": "b9e8b3ec-ba59-4222-8d96-1f8eda168bee",
   "metadata": {},
   "outputs": [],
   "source": []
  }
 ],
 "metadata": {
  "kernelspec": {
   "display_name": "Python 3 (ipykernel)",
   "language": "python",
   "name": "python3"
  },
  "language_info": {
   "codemirror_mode": {
    "name": "ipython",
    "version": 3
   },
   "file_extension": ".py",
   "mimetype": "text/x-python",
   "name": "python",
   "nbconvert_exporter": "python",
   "pygments_lexer": "ipython3",
   "version": "3.9.8"
  }
 },
 "nbformat": 4,
 "nbformat_minor": 5
}
