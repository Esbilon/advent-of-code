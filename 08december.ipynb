{
 "cells": [
  {
   "cell_type": "code",
   "execution_count": 1,
   "id": "671979e7-4afc-4db8-978f-9967029a179e",
   "metadata": {},
   "outputs": [],
   "source": [
    "## Advent of Code 2021 - December 7"
   ]
  },
  {
   "cell_type": "code",
   "execution_count": 2,
   "id": "0b0c49fe-d790-48eb-8594-684b16c208ef",
   "metadata": {},
   "outputs": [],
   "source": [
    "with open(\"08dec-test.txt\") as f:\n",
    "    test_data = [line.strip() for line in f.readlines()]\n",
    "    test_data = [line.split(\"|\") for line in test_data]\n",
    "    test_signal = [line[0].split() for line in test_data]\n",
    "    test_output = [line[1].split() for line in test_data]\n",
    "#print(test_signal, test_output)"
   ]
  },
  {
   "cell_type": "code",
   "execution_count": 3,
   "id": "6a8183d0-d898-4ba5-a1df-482bc5554868",
   "metadata": {},
   "outputs": [
    {
     "data": {
      "text/plain": [
       "26"
      ]
     },
     "execution_count": 3,
     "metadata": {},
     "output_type": "execute_result"
    }
   ],
   "source": [
    "def count_easy_digits(outputs):\n",
    "    digit_dict = {}\n",
    "    for i in range(10):\n",
    "        digit_dict[i] = 0\n",
    "    for o in outputs:\n",
    "        for d in o:\n",
    "            if len(d) == 2:\n",
    "                digit_dict[1] += 1\n",
    "            elif len(d) == 4:\n",
    "                digit_dict[4] += 1\n",
    "            elif len(d) == 3:\n",
    "                digit_dict[7] += 1\n",
    "            elif len(d) == 7:\n",
    "                digit_dict[8] += 1\n",
    "    return sum(digit_dict.values())\n",
    "count_easy_digits(test_output)"
   ]
  },
  {
   "cell_type": "code",
   "execution_count": 4,
   "id": "b768e949-0581-459f-9380-4404a234c684",
   "metadata": {},
   "outputs": [],
   "source": [
    "with open(\"08dec-data.txt\") as f:\n",
    "    data = [line.strip() for line in f.readlines()]\n",
    "    data = [line.split(\"|\") for line in data]\n",
    "    data_signal = [line[0].split() for line in data]\n",
    "    data_output = [line[1].split() for line in data]"
   ]
  },
  {
   "cell_type": "code",
   "execution_count": 5,
   "id": "2addc262-07c1-4fb2-bbab-fe768770e87d",
   "metadata": {},
   "outputs": [
    {
     "data": {
      "text/plain": [
       "365"
      ]
     },
     "execution_count": 5,
     "metadata": {},
     "output_type": "execute_result"
    }
   ],
   "source": [
    "count_easy_digits(data_output)"
   ]
  },
  {
   "cell_type": "code",
   "execution_count": 6,
   "id": "2aa44443-7d4b-49ce-af3c-694f37ba3d88",
   "metadata": {},
   "outputs": [],
   "source": [
    "def decode_signal(signal):\n",
    "    signal_dict = {}\n",
    "    reverse_dict = {}\n",
    "    for d in sorted(signal, key=len):\n",
    "        d = \"\".join(sorted(d))\n",
    "        if len(d) == 2:\n",
    "            signal_dict[d] = 1 #The string with 2 entries is alwyas the number 1\n",
    "            reverse_dict[1] = list(d)\n",
    "        elif len(d) == 3:\n",
    "            signal_dict[d] = 7 #Likewise for 3 and 7\n",
    "            reverse_dict[7] = list(d)\n",
    "        elif len(d) == 4:\n",
    "            signal_dict[d] = 4 #And 4 and 4.\n",
    "            reverse_dict[4] = list(d)\n",
    "        elif len(d) == 5:\n",
    "            if len(list(set(list(d)) - set(reverse_dict[4]))) == 3: #The string with 5 letters of which 2 are also in 4 is 2.\n",
    "                signal_dict[d] = 2\n",
    "            elif len(list(set(list(d)) - set(reverse_dict[1]))) == 3: #The string with 5 letters of which 2 are in 1 is 3.\n",
    "                signal_dict[d] = 3\n",
    "            else: #The last 5 letter number is 5.\n",
    "                signal_dict[d] = 5 \n",
    "        elif len(d) == 6:\n",
    "            if len(list(set(list(d)) - set(reverse_dict[1]))) == 5: #The 6 letter number that is missing one element of 1 is 6.\n",
    "                signal_dict[d] = 6\n",
    "            elif len(list(set(list(d)) - set(reverse_dict[4]))) == 3: #The 6 letter number that is missing one element of 4 and is not 6 is 0.\n",
    "                signal_dict[d] = 0\n",
    "            else: #The last 6 letter number is 9.\n",
    "                signal_dict[d] = 9\n",
    "        elif len(d) == 7: #The only 7 letter number is 8.\n",
    "            signal_dict[d] = 8\n",
    "            reverse_dict[8] = list(d)\n",
    "    return signal_dict"
   ]
  },
  {
   "cell_type": "code",
   "execution_count": 7,
   "id": "870bc555-4321-49b4-91b1-05d0e43c6646",
   "metadata": {},
   "outputs": [
    {
     "data": {
      "text/plain": [
       "61229"
      ]
     },
     "execution_count": 7,
     "metadata": {},
     "output_type": "execute_result"
    }
   ],
   "source": [
    "def compute_output(signal,output):\n",
    "    signal_dict = decode_signal(signal)\n",
    "    total = 0\n",
    "    for n, o in enumerate(output):\n",
    "        o = \"\".join(sorted(o))\n",
    "        total += signal_dict[o]*10**(3-n)\n",
    "    return total\n",
    "sum([compute_output(test_signal[i],test_output[i]) for i in range(len(test_signal))])"
   ]
  },
  {
   "cell_type": "code",
   "execution_count": 8,
   "id": "2ffefcaa-9048-42c4-acb3-1f2a79fa0dc1",
   "metadata": {},
   "outputs": [
    {
     "data": {
      "text/plain": [
       "975706"
      ]
     },
     "execution_count": 8,
     "metadata": {},
     "output_type": "execute_result"
    }
   ],
   "source": [
    "sum([compute_output(data_signal[i],data_output[i]) for i in range(len(data_signal))])"
   ]
  },
  {
   "cell_type": "code",
   "execution_count": null,
   "id": "001163ce-6912-4605-9c27-d6644c51e1c4",
   "metadata": {},
   "outputs": [],
   "source": []
  }
 ],
 "metadata": {
  "kernelspec": {
   "display_name": "Python 3 (ipykernel)",
   "language": "python",
   "name": "python3"
  },
  "language_info": {
   "codemirror_mode": {
    "name": "ipython",
    "version": 3
   },
   "file_extension": ".py",
   "mimetype": "text/x-python",
   "name": "python",
   "nbconvert_exporter": "python",
   "pygments_lexer": "ipython3",
   "version": "3.9.8"
  }
 },
 "nbformat": 4,
 "nbformat_minor": 5
}
