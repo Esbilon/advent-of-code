{
 "cells": [
  {
   "cell_type": "code",
   "execution_count": 1,
   "id": "115fb78d-f1e7-4934-a628-f76c9eab1c1e",
   "metadata": {},
   "outputs": [],
   "source": [
    "## Advent of Code 2021 - December 14"
   ]
  },
  {
   "cell_type": "code",
   "execution_count": 75,
   "id": "055a42bb-4578-4d56-a677-f14396b0b9d7",
   "metadata": {},
   "outputs": [],
   "source": [
    "import numpy as np\n",
    "import timeit"
   ]
  },
  {
   "cell_type": "code",
   "execution_count": 31,
   "id": "36da483b-2691-482f-9dcb-845a56df1e99",
   "metadata": {},
   "outputs": [
    {
     "data": {
      "text/plain": [
       "['N', 'N', 'C', 'B']"
      ]
     },
     "execution_count": 31,
     "metadata": {},
     "output_type": "execute_result"
    }
   ],
   "source": [
    "with open(\"14dec-test.txt\") as f:\n",
    "    test_input = [line.strip() for line in f.readlines()]\n",
    "    test_data = [[char for char in line] for line in test_input[:test_input.index(\"\")]][0]\n",
    "    test_inserts = [line.split(\" -> \") for line in test_input[test_input.index(\"\")+1:]]\n",
    "    test_inserts = {line [0]:line[1] for line in test_inserts}\n",
    "test_data\n",
    "#test_inserts"
   ]
  },
  {
   "cell_type": "code",
   "execution_count": 86,
   "id": "2389f917-c359-4a03-9d8e-4a520de4f026",
   "metadata": {},
   "outputs": [
    {
     "data": {
      "text/plain": [
       "(1588,\n",
       " array(['B', 'C', 'H', 'N'], dtype='<U1'),\n",
       " array([1749,  298,  161,  865], dtype=int64),\n",
       " array(['N', 'B', 'B', ..., 'H', 'C', 'B'], dtype='<U1'))"
      ]
     },
     "execution_count": 86,
     "metadata": {},
     "output_type": "execute_result"
    }
   ],
   "source": [
    "def polymer(template,inserts):\n",
    "    pairs = []\n",
    "    for i in range(len(template)-1):\n",
    "        pairs.append(template[i]+template[i+1])\n",
    "    for i,p in enumerate(pairs):\n",
    "        pairs[i] = p[0]+inserts[p] + p[1]\n",
    "    poly = []\n",
    "    for p in pairs:\n",
    "        if poly == []:\n",
    "            poly = list(p)\n",
    "        else:\n",
    "            poly += p[1:]\n",
    "    return poly\n",
    "def poly_multi(template,inserts,steps):\n",
    "    for n in range(steps):\n",
    "        template = polymer(template,inserts)\n",
    "    template = np.array(template)\n",
    "    values, counts = np.unique(template,return_counts=True)\n",
    "    diff = np.amax(counts)-np.amin(counts)\n",
    "    return diff, values, counts, template\n",
    "#polymer(test_data,test_inserts)\n",
    "poly_multi(test_data,test_inserts,10)"
   ]
  },
  {
   "cell_type": "code",
   "execution_count": 71,
   "id": "8390273a-d1f2-4cf5-bcb7-52bc9e33c5b0",
   "metadata": {},
   "outputs": [],
   "source": [
    "with open(\"14dec-data.txt\") as f:\n",
    "    my_input = [line.strip() for line in f.readlines()]\n",
    "    my_data = [[char for char in line] for line in my_input[:my_input.index(\"\")]][0]\n",
    "    my_inserts = [line.split(\" -> \") for line in my_input[my_input.index(\"\")+1:]]\n",
    "    my_inserts = {line[0]:line[1] for line in my_inserts}"
   ]
  },
  {
   "cell_type": "code",
   "execution_count": 85,
   "id": "46612ff9-0bad-4d63-9300-3b7803ca4ff3",
   "metadata": {},
   "outputs": [
    {
     "name": "stdout",
     "output_type": "stream",
     "text": [
      "1.6290850000000319\n"
     ]
    }
   ],
   "source": [
    "start = timeit.default_timer()\n",
    "poly_multi(my_data,my_inserts,17)\n",
    "stop = timeit.default_timer()\n",
    "print(stop-start)"
   ]
  },
  {
   "cell_type": "code",
   "execution_count": 145,
   "id": "f9beae7c-5a4a-46a2-a702-bfa8716e3aac",
   "metadata": {},
   "outputs": [
    {
     "data": {
      "text/plain": [
       "2188189693529"
      ]
     },
     "execution_count": 145,
     "metadata": {},
     "output_type": "execute_result"
    }
   ],
   "source": [
    "def poly_multi_dict(template, inserts, steps):\n",
    "    temp_dict = {}\n",
    "    for i in range(len(template)-1):\n",
    "        pair = template[i]+template[i+1]\n",
    "        if pair in temp_dict.keys():\n",
    "            temp_dict[pair] += 1\n",
    "        else:\n",
    "            temp_dict[pair] = 1\n",
    "    for n in range(steps):\n",
    "        new_dict = {}\n",
    "        for pair in temp_dict.keys():\n",
    "            np1 = pair[0] + inserts[pair]\n",
    "            np2 = inserts[pair] + pair[1]\n",
    "            if np1 in new_dict.keys():\n",
    "                new_dict[np1] += temp_dict[pair]\n",
    "            else:\n",
    "                new_dict[np1] = temp_dict[pair]\n",
    "            if np2 in new_dict.keys():\n",
    "                new_dict[np2] += temp_dict[pair]\n",
    "            else:\n",
    "                new_dict[np2] = temp_dict[pair]\n",
    "        temp_dict = new_dict\n",
    "    prot_dict = {}\n",
    "    for key,value in temp_dict.items():\n",
    "        if key[0] not in prot_dict.keys():\n",
    "            prot_dict[key[0]] = value\n",
    "        else:\n",
    "            prot_dict[key[0]] += value\n",
    "    prot_dict[template[-1]] += 1\n",
    "    diff = max(prot_dict.values())-min(prot_dict.values())\n",
    "    return diff#, temp_dict\n",
    "poly_multi_dict(test_data,test_inserts,40)"
   ]
  },
  {
   "cell_type": "code",
   "execution_count": 146,
   "id": "aa61086d-a674-4b78-b3f8-e3a986d5be17",
   "metadata": {},
   "outputs": [
    {
     "data": {
      "text/plain": [
       "4110568157153"
      ]
     },
     "execution_count": 146,
     "metadata": {},
     "output_type": "execute_result"
    }
   ],
   "source": [
    "poly_multi_dict(my_data,my_inserts,40)"
   ]
  },
  {
   "cell_type": "code",
   "execution_count": null,
   "id": "8c3daa06-dd3c-4d73-b655-8fdf3b928515",
   "metadata": {},
   "outputs": [],
   "source": []
  }
 ],
 "metadata": {
  "kernelspec": {
   "display_name": "Python 3 (ipykernel)",
   "language": "python",
   "name": "python3"
  },
  "language_info": {
   "codemirror_mode": {
    "name": "ipython",
    "version": 3
   },
   "file_extension": ".py",
   "mimetype": "text/x-python",
   "name": "python",
   "nbconvert_exporter": "python",
   "pygments_lexer": "ipython3",
   "version": "3.9.7"
  }
 },
 "nbformat": 4,
 "nbformat_minor": 5
}
