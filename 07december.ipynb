{
 "cells": [
  {
   "cell_type": "code",
   "execution_count": 1,
   "id": "39c6c0d7-dd73-4f0f-a069-7197ab054b20",
   "metadata": {},
   "outputs": [],
   "source": [
    "## Advent of Code 2021 - December 7"
   ]
  },
  {
   "cell_type": "code",
   "execution_count": 47,
   "id": "aefd2963-d3b8-438c-91a0-e22b667d6d0b",
   "metadata": {},
   "outputs": [],
   "source": [
    "import numpy as np"
   ]
  },
  {
   "cell_type": "code",
   "execution_count": 48,
   "id": "6491365b-6625-47e7-8be9-7524646116bc",
   "metadata": {},
   "outputs": [],
   "source": [
    "test_data = [16,1,2,0,4,2,7,1,2,14]"
   ]
  },
  {
   "cell_type": "code",
   "execution_count": 53,
   "id": "d0fb17e8-200e-47f3-8a86-6736bbd9462b",
   "metadata": {},
   "outputs": [],
   "source": [
    "def fuel_use(cdata,n):\n",
    "    fuel_total = 0\n",
    "    for c in cdata:\n",
    "        fuel_total += abs(c-n)\n",
    "    return fuel_total"
   ]
  },
  {
   "cell_type": "code",
   "execution_count": 46,
   "id": "0a2a0be7-f142-45c5-bbfd-b42ef25f4901",
   "metadata": {},
   "outputs": [
    {
     "data": {
      "text/plain": [
       "2.0"
      ]
     },
     "execution_count": 46,
     "metadata": {},
     "output_type": "execute_result"
    }
   ],
   "source": [
    "np.median(test_data)"
   ]
  },
  {
   "cell_type": "code",
   "execution_count": 30,
   "id": "4e4ee87f-b59f-433f-a5d3-fef4b9d7ebe7",
   "metadata": {},
   "outputs": [],
   "source": [
    "with open(\"07dec-data.txt\") as f:\n",
    "    data = [line.split(\",\") for line in f.readlines()]\n",
    "    data = [int(i) for i in data[0]]"
   ]
  },
  {
   "cell_type": "code",
   "execution_count": 50,
   "id": "ffaf46fb-78f2-4b99-b494-fb8f320b65d4",
   "metadata": {},
   "outputs": [
    {
     "data": {
      "text/plain": [
       "[357353.0, 332.0]"
      ]
     },
     "execution_count": 50,
     "metadata": {},
     "output_type": "execute_result"
    }
   ],
   "source": [
    "[fuel_use(data,np.median(data)), np.median(data)]"
   ]
  },
  {
   "cell_type": "code",
   "execution_count": 54,
   "id": "3727ec57-e4b7-457f-a663-860344bdfe65",
   "metadata": {},
   "outputs": [
    {
     "data": {
      "text/plain": [
       "[357353, 332]"
      ]
     },
     "execution_count": 54,
     "metadata": {},
     "output_type": "execute_result"
    }
   ],
   "source": [
    "ftab = [[fuel_use(data,i), i] for i in range(len(data))]\n",
    "min(ftab)"
   ]
  },
  {
   "cell_type": "code",
   "execution_count": 55,
   "id": "bcc4121c-ace3-41f1-931b-33a47474f1ab",
   "metadata": {},
   "outputs": [],
   "source": [
    "def fuel_use_triangle(cdata,n):\n",
    "    fuel_total = 0\n",
    "    for c in cdata:\n",
    "        dist = abs(c-n)\n",
    "        fuel_total += dist*(dist+1)/2\n",
    "    return fuel_total"
   ]
  },
  {
   "cell_type": "code",
   "execution_count": 56,
   "id": "14ac19cd-8afb-4eb3-b327-5f59759e7e3d",
   "metadata": {},
   "outputs": [
    {
     "data": {
      "text/plain": [
       "[104822130.0, 489]"
      ]
     },
     "execution_count": 56,
     "metadata": {},
     "output_type": "execute_result"
    }
   ],
   "source": [
    "fttab = [[fuel_use_triangle(data,i), i] for i in range(len(data))]\n",
    "min(fttab)"
   ]
  },
  {
   "cell_type": "code",
   "execution_count": 57,
   "id": "f29a29e1-f287-4f56-9eda-7252ca16474d",
   "metadata": {},
   "outputs": [
    {
     "data": {
      "text/plain": [
       "489.501"
      ]
     },
     "execution_count": 57,
     "metadata": {},
     "output_type": "execute_result"
    }
   ],
   "source": [
    "statistics.mean(data)"
   ]
  },
  {
   "cell_type": "code",
   "execution_count": null,
   "id": "09189b68-e439-4a47-9faf-778e149d710a",
   "metadata": {},
   "outputs": [],
   "source": []
  }
 ],
 "metadata": {
  "kernelspec": {
   "display_name": "Python 3 (ipykernel)",
   "language": "python",
   "name": "python3"
  },
  "language_info": {
   "codemirror_mode": {
    "name": "ipython",
    "version": 3
   },
   "file_extension": ".py",
   "mimetype": "text/x-python",
   "name": "python",
   "nbconvert_exporter": "python",
   "pygments_lexer": "ipython3",
   "version": "3.9.8"
  }
 },
 "nbformat": 4,
 "nbformat_minor": 5
}
